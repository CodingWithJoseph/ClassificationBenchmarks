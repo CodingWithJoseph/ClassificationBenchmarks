{
 "cells": [
  {
   "cell_type": "code",
   "id": "initial_id",
   "metadata": {
    "collapsed": true,
    "ExecuteTime": {
     "end_time": "2025-09-15T22:05:53.646314Z",
     "start_time": "2025-09-15T22:05:53.642640Z"
    }
   },
   "source": "import pandas as pd",
   "outputs": [],
   "execution_count": 39
  },
  {
   "metadata": {
    "ExecuteTime": {
     "end_time": "2025-09-15T22:11:24.969258Z",
     "start_time": "2025-09-15T22:11:20.094500Z"
    }
   },
   "cell_type": "code",
   "source": [
    "edges = pd.read_csv('../../data/ogb/ogbn_arxiv/raw/edge.csv.gz', compression=\"gzip\", header=None, names=[\"src\", \"dst\"])\n",
    "features = pd.read_csv('../../data/ogb/ogbn_arxiv/raw/node-feat.csv.gz', compression=\"gzip\", header=None)\n",
    "labels = pd.read_csv('../../data/ogb/ogbn_arxiv/raw/node-label.csv.gz', compression=\"gzip\", header=None)\n",
    "publication_year = pd.read_csv('../../data/ogb/ogbn_arxiv/raw/node_year.csv.gz', compression=\"gzip\", header=None)\n",
    "\n",
    "edges.head()"
   ],
   "id": "c6f098256efaf6fa",
   "outputs": [
    {
     "data": {
      "text/plain": [
       "      src     dst\n",
       "0  104447   13091\n",
       "1   15858   47283\n",
       "2  107156   69161\n",
       "3  107156  136440\n",
       "4  107156  107366"
      ],
      "text/html": [
       "<div>\n",
       "<style scoped>\n",
       "    .dataframe tbody tr th:only-of-type {\n",
       "        vertical-align: middle;\n",
       "    }\n",
       "\n",
       "    .dataframe tbody tr th {\n",
       "        vertical-align: top;\n",
       "    }\n",
       "\n",
       "    .dataframe thead th {\n",
       "        text-align: right;\n",
       "    }\n",
       "</style>\n",
       "<table border=\"1\" class=\"dataframe\">\n",
       "  <thead>\n",
       "    <tr style=\"text-align: right;\">\n",
       "      <th></th>\n",
       "      <th>src</th>\n",
       "      <th>dst</th>\n",
       "    </tr>\n",
       "  </thead>\n",
       "  <tbody>\n",
       "    <tr>\n",
       "      <th>0</th>\n",
       "      <td>104447</td>\n",
       "      <td>13091</td>\n",
       "    </tr>\n",
       "    <tr>\n",
       "      <th>1</th>\n",
       "      <td>15858</td>\n",
       "      <td>47283</td>\n",
       "    </tr>\n",
       "    <tr>\n",
       "      <th>2</th>\n",
       "      <td>107156</td>\n",
       "      <td>69161</td>\n",
       "    </tr>\n",
       "    <tr>\n",
       "      <th>3</th>\n",
       "      <td>107156</td>\n",
       "      <td>136440</td>\n",
       "    </tr>\n",
       "    <tr>\n",
       "      <th>4</th>\n",
       "      <td>107156</td>\n",
       "      <td>107366</td>\n",
       "    </tr>\n",
       "  </tbody>\n",
       "</table>\n",
       "</div>"
      ]
     },
     "execution_count": 44,
     "metadata": {},
     "output_type": "execute_result"
    }
   ],
   "execution_count": 44
  },
  {
   "metadata": {
    "ExecuteTime": {
     "end_time": "2025-09-15T22:11:25.624301Z",
     "start_time": "2025-09-15T22:11:25.378661Z"
    }
   },
   "cell_type": "code",
   "source": [
    "X = pd.concat([features, publication_year], axis=1)\n",
    "y = labels.squeeze()\n",
    "\n",
    "# Degree features\n",
    "in_degree = edges.groupby(\"dst\").size()\n",
    "out_degree = edges.groupby(\"src\").size()\n",
    "\n",
    "# Fill missing nodes with 0\n",
    "in_degree = in_degree.reindex(range(len(X)), fill_value=0)\n",
    "out_degree = out_degree.reindex(range(len(X)), fill_value=0)\n",
    "\n",
    "# Add to X\n",
    "X[\"in_degree\"] = in_degree\n",
    "X[\"out_degree\"] = out_degree"
   ],
   "id": "2cc6779fd8894704",
   "outputs": [
    {
     "data": {
      "text/plain": [
       "(169343, 131)"
      ]
     },
     "execution_count": 46,
     "metadata": {},
     "output_type": "execute_result"
    }
   ],
   "execution_count": 46
  },
  {
   "metadata": {
    "ExecuteTime": {
     "end_time": "2025-09-15T22:12:06.386571Z",
     "start_time": "2025-09-15T22:12:06.381843Z"
    }
   },
   "cell_type": "code",
   "source": [
    "print(X.shape)\n",
    "print(y.shape)"
   ],
   "id": "d9486406e2549364",
   "outputs": [
    {
     "name": "stdout",
     "output_type": "stream",
     "text": [
      "(169343, 131)\n",
      "(169343,)\n"
     ]
    }
   ],
   "execution_count": 47
  },
  {
   "metadata": {
    "ExecuteTime": {
     "end_time": "2025-09-15T22:12:31.471671Z",
     "start_time": "2025-09-15T22:12:08.814991Z"
    }
   },
   "cell_type": "code",
   "source": [
    "X.to_csv('../../data/ogb/processed/ogn_arxiv.csv', index=False)\n",
    "y.to_csv('../../data/ogb/processed/labels.csv', index=False)"
   ],
   "id": "64bce337604d5e",
   "outputs": [],
   "execution_count": 48
  },
  {
   "metadata": {},
   "cell_type": "code",
   "outputs": [],
   "execution_count": null,
   "source": "",
   "id": "b03f1ace1d989199"
  }
 ],
 "metadata": {
  "kernelspec": {
   "display_name": "Python 3",
   "language": "python",
   "name": "python3"
  },
  "language_info": {
   "codemirror_mode": {
    "name": "ipython",
    "version": 2
   },
   "file_extension": ".py",
   "mimetype": "text/x-python",
   "name": "python",
   "nbconvert_exporter": "python",
   "pygments_lexer": "ipython2",
   "version": "2.7.6"
  }
 },
 "nbformat": 4,
 "nbformat_minor": 5
}
