{
 "cells": [
  {
   "metadata": {
    "ExecuteTime": {
     "end_time": "2025-09-16T17:29:30.643406Z",
     "start_time": "2025-09-16T17:29:28.529704Z"
    }
   },
   "cell_type": "code",
   "source": [
    "from ogb.nodeproppred import NodePropPredDataset\n",
    "import pandas as pd\n",
    "import networkx as nx"
   ],
   "id": "e7b3785527bce2be",
   "outputs": [],
   "execution_count": 1
  },
  {
   "metadata": {
    "ExecuteTime": {
     "end_time": "2025-09-16T17:29:37.817559Z",
     "start_time": "2025-09-16T17:29:30.650659Z"
    }
   },
   "cell_type": "code",
   "source": [
    "dataset = NodePropPredDataset(name=\"ogbn-arxiv\", root=\"../../data/ogbn\")\n",
    "graph, labels = dataset[0]"
   ],
   "id": "46d1bbf45a0364e9",
   "outputs": [
    {
     "name": "stdout",
     "output_type": "stream",
     "text": [
      "Downloading http://snap.stanford.edu/ogb/data/nodeproppred/arxiv.zip\n"
     ]
    },
    {
     "name": "stderr",
     "output_type": "stream",
     "text": [
      "Downloaded 0.08 GB: 100%|██████████| 81/81 [00:05<00:00, 15.89it/s]\n"
     ]
    },
    {
     "name": "stdout",
     "output_type": "stream",
     "text": [
      "Extracting ../../data/ogbn\\arxiv.zip\n",
      "Loading necessary files...\n",
      "This might take a while.\n",
      "Processing graphs...\n"
     ]
    },
    {
     "name": "stderr",
     "output_type": "stream",
     "text": [
      "100%|██████████| 1/1 [00:00<?, ?it/s]"
     ]
    },
    {
     "name": "stdout",
     "output_type": "stream",
     "text": [
      "Saving...\n"
     ]
    },
    {
     "name": "stderr",
     "output_type": "stream",
     "text": [
      "\n"
     ]
    }
   ],
   "execution_count": 2
  },
  {
   "metadata": {
    "ExecuteTime": {
     "end_time": "2025-09-16T17:29:37.869781Z",
     "start_time": "2025-09-16T17:29:37.867342Z"
    }
   },
   "cell_type": "code",
   "source": [
    "edge_index = graph[\"edge_index\"]\n",
    "node_feat = graph[\"node_feat\"]"
   ],
   "id": "1357eefca06838e7",
   "outputs": [],
   "execution_count": 3
  },
  {
   "metadata": {
    "jupyter": {
     "is_executing": true
    },
    "ExecuteTime": {
     "start_time": "2025-09-16T17:29:37.946079Z"
    }
   },
   "cell_type": "code",
   "source": [
    "G = nx.Graph()\n",
    "G.add_edges_from(edge_index.T.tolist())\n",
    "\n",
    "features = {\n",
    "    'degree': dict(G.degree()),\n",
    "    'pagerank': nx.pagerank(G),\n",
    "    'clustering': nx.clustering(G),\n",
    "    'betweenness': nx.betweenness_centrality(G),\n",
    "}\n",
    "\n",
    "df_graph = pd.DataFrame(features)\n",
    "df_graph.index.name = 'node_id'"
   ],
   "id": "5361b9748307bbb7",
   "outputs": [],
   "execution_count": null
  },
  {
   "metadata": {},
   "cell_type": "code",
   "source": [
    "df_feats = pd.DataFrame(node_feat)\n",
    "df_feats['label'] = labels.flatten()\n",
    "df_feats['node_id'] = df_feats.index\n",
    "\n",
    "data = df_feats.merge(df_graph, left_on='node_id')"
   ],
   "id": "8178e970bbaa2bc2",
   "outputs": [],
   "execution_count": null
  },
  {
   "metadata": {},
   "cell_type": "code",
   "source": "data.keys()",
   "id": "8d8c0e13676a6246",
   "outputs": [],
   "execution_count": null
  },
  {
   "metadata": {},
   "cell_type": "code",
   "outputs": [],
   "execution_count": null,
   "source": "data.to_csv('../../data/obgn/processed/obgn_arxiv_processed.csv', index=False)",
   "id": "78d49f270c4a546b"
  }
 ],
 "metadata": {
  "kernelspec": {
   "display_name": "Python 3",
   "language": "python",
   "name": "python3"
  },
  "language_info": {
   "codemirror_mode": {
    "name": "ipython",
    "version": 2
   },
   "file_extension": ".py",
   "mimetype": "text/x-python",
   "name": "python",
   "nbconvert_exporter": "python",
   "pygments_lexer": "ipython2",
   "version": "2.7.6"
  }
 },
 "nbformat": 4,
 "nbformat_minor": 5
}
