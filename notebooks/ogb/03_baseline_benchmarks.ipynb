{
 "metadata": {
  "kernelspec": {
   "display_name": "Python 3",
   "language": "python",
   "name": "python3"
  },
  "language_info": {
   "name": "python",
   "version": "3.11.13",
   "mimetype": "text/x-python",
   "codemirror_mode": {
    "name": "ipython",
    "version": 3
   },
   "pygments_lexer": "ipython3",
   "nbconvert_exporter": "python",
   "file_extension": ".py"
  },
  "kaggle": {
   "accelerator": "none",
   "dataSources": [],
   "dockerImageVersionId": 31089,
   "isInternetEnabled": true,
   "language": "python",
   "sourceType": "notebook",
   "isGpuEnabled": false
  }
 },
 "nbformat_minor": 5,
 "nbformat": 4,
 "cells": [
  {
   "id": "3d915f6b6031b2b2",
   "cell_type": "markdown",
   "source": "## Load Data & Dependencies",
   "metadata": {}
  },
  {
   "id": "initial_id",
   "cell_type": "code",
   "source": [
    "from sklearn.metrics import accuracy_score, classification_report\n",
    "from sklearn.model_selection import train_test_split\n",
    "from tensorflow.keras import Input\n",
    "from tensorflow.keras.layers import Dense, Dropout\n",
    "from tensorflow.keras.models import Sequential\n",
    "from tensorflow.keras.optimizers import Adam\n",
    "from keras.backend import clear_session\n",
    "from xgboost import XGBClassifier\n",
    "import numpy as np\n",
    "import pandas as pd\n",
    "\n",
    "X = pd.read_csv('../../data/ogb/processed/ogn_arxiv.csv')\n",
    "y = pd.read_csv('../../data/ogb/processed/labels.csv')"
   ],
   "metadata": {
    "trusted": true,
    "execution": {
     "iopub.status.busy": "2025-09-11T16:40:11.241069Z",
     "iopub.execute_input": "2025-09-11T16:40:11.241379Z",
     "iopub.status.idle": "2025-09-11T16:40:11.849785Z",
     "shell.execute_reply.started": "2025-09-11T16:40:11.241351Z",
     "shell.execute_reply": "2025-09-11T16:40:11.848733Z"
    },
    "ExecuteTime": {
     "end_time": "2025-09-15T22:15:39.656574Z",
     "start_time": "2025-09-15T22:15:36.086259Z"
    }
   },
   "outputs": [],
   "execution_count": 15
  },
  {
   "metadata": {
    "ExecuteTime": {
     "end_time": "2025-09-15T22:15:40.780122Z",
     "start_time": "2025-09-15T22:15:40.772603Z"
    }
   },
   "cell_type": "code",
   "source": [
    "print(X.shape)\n",
    "print(y.shape)"
   ],
   "id": "a693b6e00b7c9034",
   "outputs": [
    {
     "name": "stdout",
     "output_type": "stream",
     "text": [
      "(169343, 131)\n",
      "(169343, 1)\n"
     ]
    }
   ],
   "execution_count": 16
  },
  {
   "id": "ecd9a0172e081886",
   "cell_type": "markdown",
   "source": "## Split Data Into Train, Validation, & Test Sets",
   "metadata": {}
  },
  {
   "id": "b31ebde568daf92c",
   "cell_type": "code",
   "source": [
    "X_train, X_test, y_train, y_test = train_test_split(X, y['0'].values, test_size=0.2, random_state=42)\n",
    "X_train, X_val, y_train, y_val = train_test_split(X_train, y_train, test_size=0.25, random_state=1)"
   ],
   "metadata": {
    "trusted": true,
    "execution": {
     "iopub.status.busy": "2025-09-11T16:40:11.850949Z",
     "iopub.execute_input": "2025-09-11T16:40:11.851313Z",
     "iopub.status.idle": "2025-09-11T16:40:12.069322Z",
     "shell.execute_reply.started": "2025-09-11T16:40:11.851281Z",
     "shell.execute_reply": "2025-09-11T16:40:12.068150Z"
    },
    "ExecuteTime": {
     "end_time": "2025-09-15T22:15:43.468112Z",
     "start_time": "2025-09-15T22:15:42.935961Z"
    }
   },
   "outputs": [],
   "execution_count": 17
  },
  {
   "id": "b526d5113d62de66",
   "cell_type": "markdown",
   "source": "## Standard Baseline With Extreme Gradient Boosting",
   "metadata": {}
  },
  {
   "id": "d01ff174d2fa36",
   "cell_type": "code",
   "source": "from sklearn.metrics import f1_score\n\nxgb_classifier = XGBClassifier(\n    objective='multi:softmax',\n    eval_metric='mlogloss',\n    n_estimators=200,\n    learning_rate=0.1,\n    max_depth=8,\n    subsample=0.8,\n    colsample_bytree=0.8,\n    random_state=1,\n    n_jobs=-1,\n    early_stopping_rounds=10\n)\n\nxgb_classifier.fit(\n    X_train,\n    y_train,\n    eval_set=[(X_val, y_val)],\n    verbose=True\n)\n\n\nval_predictions = xgb_classifier.predict(X_val)\n\nval_accuracy = accuracy_score(y_val, val_predictions)\nval_macro_f1 = f1_score(y_val, val_predictions, average='macro')\n\nprint(f\"Validation Accuracy: {val_accuracy:.4f}\")\nprint(f\"Validation Macro-F1: {val_macro_f1:.4f}\")\n\npredictions = xgb_classifier.predict(X_test)",
   "metadata": {
    "trusted": true,
    "execution": {
     "iopub.status.busy": "2025-09-11T16:40:12.070436Z",
     "iopub.execute_input": "2025-09-11T16:40:12.070692Z",
     "iopub.status.idle": "2025-09-11T16:49:13.959465Z",
     "shell.execute_reply.started": "2025-09-11T16:40:12.070674Z",
     "shell.execute_reply": "2025-09-11T16:49:13.958467Z"
    },
    "ExecuteTime": {
     "end_time": "2025-09-15T22:20:50.096390Z",
     "start_time": "2025-09-15T22:15:46.636434Z"
    }
   },
   "outputs": [
    {
     "name": "stdout",
     "output_type": "stream",
     "text": [
      "[0]\tvalidation_0-mlogloss:3.25492\n",
      "[1]\tvalidation_0-mlogloss:3.04821\n",
      "[2]\tvalidation_0-mlogloss:2.89278\n",
      "[3]\tvalidation_0-mlogloss:2.76977\n",
      "[4]\tvalidation_0-mlogloss:2.66710\n",
      "[5]\tvalidation_0-mlogloss:2.57849\n",
      "[6]\tvalidation_0-mlogloss:2.50234\n",
      "[7]\tvalidation_0-mlogloss:2.43509\n",
      "[8]\tvalidation_0-mlogloss:2.37480\n",
      "[9]\tvalidation_0-mlogloss:2.32113\n",
      "[10]\tvalidation_0-mlogloss:2.27252\n",
      "[11]\tvalidation_0-mlogloss:2.22790\n",
      "[12]\tvalidation_0-mlogloss:2.18732\n",
      "[13]\tvalidation_0-mlogloss:2.14981\n",
      "[14]\tvalidation_0-mlogloss:2.11561\n",
      "[15]\tvalidation_0-mlogloss:2.08397\n",
      "[16]\tvalidation_0-mlogloss:2.05481\n",
      "[17]\tvalidation_0-mlogloss:2.02744\n",
      "[18]\tvalidation_0-mlogloss:2.00180\n",
      "[19]\tvalidation_0-mlogloss:1.97782\n",
      "[20]\tvalidation_0-mlogloss:1.95492\n",
      "[21]\tvalidation_0-mlogloss:1.93438\n",
      "[22]\tvalidation_0-mlogloss:1.91503\n",
      "[23]\tvalidation_0-mlogloss:1.89651\n",
      "[24]\tvalidation_0-mlogloss:1.87933\n",
      "[25]\tvalidation_0-mlogloss:1.86309\n",
      "[26]\tvalidation_0-mlogloss:1.84808\n",
      "[27]\tvalidation_0-mlogloss:1.83340\n",
      "[28]\tvalidation_0-mlogloss:1.81956\n",
      "[29]\tvalidation_0-mlogloss:1.80657\n",
      "[30]\tvalidation_0-mlogloss:1.79416\n",
      "[31]\tvalidation_0-mlogloss:1.78222\n",
      "[32]\tvalidation_0-mlogloss:1.77101\n",
      "[33]\tvalidation_0-mlogloss:1.76055\n",
      "[34]\tvalidation_0-mlogloss:1.75068\n",
      "[35]\tvalidation_0-mlogloss:1.74118\n",
      "[36]\tvalidation_0-mlogloss:1.73209\n",
      "[37]\tvalidation_0-mlogloss:1.72352\n",
      "[38]\tvalidation_0-mlogloss:1.71514\n",
      "[39]\tvalidation_0-mlogloss:1.70710\n",
      "[40]\tvalidation_0-mlogloss:1.69973\n",
      "[41]\tvalidation_0-mlogloss:1.69245\n",
      "[42]\tvalidation_0-mlogloss:1.68536\n",
      "[43]\tvalidation_0-mlogloss:1.67871\n",
      "[44]\tvalidation_0-mlogloss:1.67257\n",
      "[45]\tvalidation_0-mlogloss:1.66660\n",
      "[46]\tvalidation_0-mlogloss:1.66086\n",
      "[47]\tvalidation_0-mlogloss:1.65525\n",
      "[48]\tvalidation_0-mlogloss:1.65002\n",
      "[49]\tvalidation_0-mlogloss:1.64503\n",
      "[50]\tvalidation_0-mlogloss:1.64023\n",
      "[51]\tvalidation_0-mlogloss:1.63567\n",
      "[52]\tvalidation_0-mlogloss:1.63131\n",
      "[53]\tvalidation_0-mlogloss:1.62680\n",
      "[54]\tvalidation_0-mlogloss:1.62283\n",
      "[55]\tvalidation_0-mlogloss:1.61883\n",
      "[56]\tvalidation_0-mlogloss:1.61507\n",
      "[57]\tvalidation_0-mlogloss:1.61147\n",
      "[58]\tvalidation_0-mlogloss:1.60807\n",
      "[59]\tvalidation_0-mlogloss:1.60465\n",
      "[60]\tvalidation_0-mlogloss:1.60110\n",
      "[61]\tvalidation_0-mlogloss:1.59821\n",
      "[62]\tvalidation_0-mlogloss:1.59511\n",
      "[63]\tvalidation_0-mlogloss:1.59227\n",
      "[64]\tvalidation_0-mlogloss:1.58948\n",
      "[65]\tvalidation_0-mlogloss:1.58688\n",
      "[66]\tvalidation_0-mlogloss:1.58445\n",
      "[67]\tvalidation_0-mlogloss:1.58199\n",
      "[68]\tvalidation_0-mlogloss:1.57947\n",
      "[69]\tvalidation_0-mlogloss:1.57722\n",
      "[70]\tvalidation_0-mlogloss:1.57484\n",
      "[71]\tvalidation_0-mlogloss:1.57269\n",
      "[72]\tvalidation_0-mlogloss:1.57055\n",
      "[73]\tvalidation_0-mlogloss:1.56868\n",
      "[74]\tvalidation_0-mlogloss:1.56663\n",
      "[75]\tvalidation_0-mlogloss:1.56468\n",
      "[76]\tvalidation_0-mlogloss:1.56294\n",
      "[77]\tvalidation_0-mlogloss:1.56109\n",
      "[78]\tvalidation_0-mlogloss:1.55925\n",
      "[79]\tvalidation_0-mlogloss:1.55757\n",
      "[80]\tvalidation_0-mlogloss:1.55603\n",
      "[81]\tvalidation_0-mlogloss:1.55466\n",
      "[82]\tvalidation_0-mlogloss:1.55326\n",
      "[83]\tvalidation_0-mlogloss:1.55195\n",
      "[84]\tvalidation_0-mlogloss:1.55063\n",
      "[85]\tvalidation_0-mlogloss:1.54926\n",
      "[86]\tvalidation_0-mlogloss:1.54787\n",
      "[87]\tvalidation_0-mlogloss:1.54641\n",
      "[88]\tvalidation_0-mlogloss:1.54496\n",
      "[89]\tvalidation_0-mlogloss:1.54384\n",
      "[90]\tvalidation_0-mlogloss:1.54276\n",
      "[91]\tvalidation_0-mlogloss:1.54157\n",
      "[92]\tvalidation_0-mlogloss:1.54061\n",
      "[93]\tvalidation_0-mlogloss:1.53966\n",
      "[94]\tvalidation_0-mlogloss:1.53849\n",
      "[95]\tvalidation_0-mlogloss:1.53747\n",
      "[96]\tvalidation_0-mlogloss:1.53657\n",
      "[97]\tvalidation_0-mlogloss:1.53573\n",
      "[98]\tvalidation_0-mlogloss:1.53500\n",
      "[99]\tvalidation_0-mlogloss:1.53422\n",
      "[100]\tvalidation_0-mlogloss:1.53343\n",
      "[101]\tvalidation_0-mlogloss:1.53253\n",
      "[102]\tvalidation_0-mlogloss:1.53195\n",
      "[103]\tvalidation_0-mlogloss:1.53119\n",
      "[104]\tvalidation_0-mlogloss:1.53046\n",
      "[105]\tvalidation_0-mlogloss:1.52979\n",
      "[106]\tvalidation_0-mlogloss:1.52889\n",
      "[107]\tvalidation_0-mlogloss:1.52816\n",
      "[108]\tvalidation_0-mlogloss:1.52751\n",
      "[109]\tvalidation_0-mlogloss:1.52681\n",
      "[110]\tvalidation_0-mlogloss:1.52634\n",
      "[111]\tvalidation_0-mlogloss:1.52570\n",
      "[112]\tvalidation_0-mlogloss:1.52518\n",
      "[113]\tvalidation_0-mlogloss:1.52451\n",
      "[114]\tvalidation_0-mlogloss:1.52395\n",
      "[115]\tvalidation_0-mlogloss:1.52349\n",
      "[116]\tvalidation_0-mlogloss:1.52281\n",
      "[117]\tvalidation_0-mlogloss:1.52228\n",
      "[118]\tvalidation_0-mlogloss:1.52199\n",
      "[119]\tvalidation_0-mlogloss:1.52141\n",
      "[120]\tvalidation_0-mlogloss:1.52096\n",
      "[121]\tvalidation_0-mlogloss:1.52017\n",
      "[122]\tvalidation_0-mlogloss:1.51984\n",
      "[123]\tvalidation_0-mlogloss:1.51930\n",
      "[124]\tvalidation_0-mlogloss:1.51890\n",
      "[125]\tvalidation_0-mlogloss:1.51859\n",
      "[126]\tvalidation_0-mlogloss:1.51835\n",
      "[127]\tvalidation_0-mlogloss:1.51804\n",
      "[128]\tvalidation_0-mlogloss:1.51784\n",
      "[129]\tvalidation_0-mlogloss:1.51761\n",
      "[130]\tvalidation_0-mlogloss:1.51744\n",
      "[131]\tvalidation_0-mlogloss:1.51728\n",
      "[132]\tvalidation_0-mlogloss:1.51681\n",
      "[133]\tvalidation_0-mlogloss:1.51637\n",
      "[134]\tvalidation_0-mlogloss:1.51595\n",
      "[135]\tvalidation_0-mlogloss:1.51573\n",
      "[136]\tvalidation_0-mlogloss:1.51536\n",
      "[137]\tvalidation_0-mlogloss:1.51516\n",
      "[138]\tvalidation_0-mlogloss:1.51508\n",
      "[139]\tvalidation_0-mlogloss:1.51501\n",
      "[140]\tvalidation_0-mlogloss:1.51454\n",
      "[141]\tvalidation_0-mlogloss:1.51449\n",
      "[142]\tvalidation_0-mlogloss:1.51447\n",
      "[143]\tvalidation_0-mlogloss:1.51416\n",
      "[144]\tvalidation_0-mlogloss:1.51398\n",
      "[145]\tvalidation_0-mlogloss:1.51378\n",
      "[146]\tvalidation_0-mlogloss:1.51367\n",
      "[147]\tvalidation_0-mlogloss:1.51363\n",
      "[148]\tvalidation_0-mlogloss:1.51341\n",
      "[149]\tvalidation_0-mlogloss:1.51317\n",
      "[150]\tvalidation_0-mlogloss:1.51297\n",
      "[151]\tvalidation_0-mlogloss:1.51293\n",
      "[152]\tvalidation_0-mlogloss:1.51297\n",
      "[153]\tvalidation_0-mlogloss:1.51279\n",
      "[154]\tvalidation_0-mlogloss:1.51279\n",
      "[155]\tvalidation_0-mlogloss:1.51287\n",
      "[156]\tvalidation_0-mlogloss:1.51283\n",
      "[157]\tvalidation_0-mlogloss:1.51260\n",
      "[158]\tvalidation_0-mlogloss:1.51258\n",
      "[159]\tvalidation_0-mlogloss:1.51255\n",
      "[160]\tvalidation_0-mlogloss:1.51262\n",
      "[161]\tvalidation_0-mlogloss:1.51259\n",
      "[162]\tvalidation_0-mlogloss:1.51253\n",
      "[163]\tvalidation_0-mlogloss:1.51247\n",
      "[164]\tvalidation_0-mlogloss:1.51254\n",
      "[165]\tvalidation_0-mlogloss:1.51255\n",
      "[166]\tvalidation_0-mlogloss:1.51250\n",
      "[167]\tvalidation_0-mlogloss:1.51262\n",
      "[168]\tvalidation_0-mlogloss:1.51258\n",
      "[169]\tvalidation_0-mlogloss:1.51266\n",
      "[170]\tvalidation_0-mlogloss:1.51279\n",
      "[171]\tvalidation_0-mlogloss:1.51273\n",
      "[172]\tvalidation_0-mlogloss:1.51271\n",
      "Validation Accuracy: 0.5659\n",
      "Validation Macro-F1: 0.3353\n"
     ]
    }
   ],
   "execution_count": 18
  },
  {
   "id": "e28d134b1cf86b3f",
   "cell_type": "code",
   "source": "accuracy = accuracy_score(y_test, predictions)\nreport = classification_report(y_test, predictions, output_dict=True, zero_division=0)\n\nf1 = report['macro avg']['f1-score']\nrecall = report['macro avg']['recall']\nprecision = report['macro avg']['precision']\n\nprint(f\"Accuracy: {accuracy:.4f}\")\nprint(f\"F1: {f1:.4f}\")\nprint(f\"Recall: {recall:.4f}\")\nprint(f\"Precision: {precision:.4f}\")",
   "metadata": {
    "trusted": true,
    "execution": {
     "iopub.status.busy": "2025-09-11T16:49:13.962246Z",
     "iopub.execute_input": "2025-09-11T16:49:13.962713Z",
     "iopub.status.idle": "2025-09-11T16:49:14.070935Z",
     "shell.execute_reply.started": "2025-09-11T16:49:13.962677Z",
     "shell.execute_reply": "2025-09-11T16:49:14.069760Z"
    },
    "ExecuteTime": {
     "end_time": "2025-09-15T22:20:59.445781Z",
     "start_time": "2025-09-15T22:20:59.400302Z"
    }
   },
   "outputs": [
    {
     "name": "stdout",
     "output_type": "stream",
     "text": [
      "Accuracy: 0.5586\n",
      "F1: 0.3380\n",
      "Recall: 0.3008\n",
      "Precision: 0.4700\n"
     ]
    }
   ],
   "execution_count": 19
  },
  {
   "id": "9b6992620c46459b",
   "cell_type": "markdown",
   "source": "## Small Deep‑Learning Text Classifier",
   "metadata": {}
  },
  {
   "id": "748e4981876b14d6",
   "cell_type": "code",
   "source": [
    "clear_session()\n",
    "\n",
    "num_classes = len(set(y_train))\n",
    "model = Sequential([\n",
    "    Input(shape=(X_train.shape[1],)),\n",
    "    Dense(128, activation='relu', name='dense_1'),\n",
    "    Dropout(0.3),\n",
    "    Dense(64, activation='relu', name='dense_2'),\n",
    "    Dense(num_classes, activation='softmax', name='output')\n",
    "])\n",
    "\n",
    "model.compile(\n",
    "    optimizer= Adam(learning_rate=1e-3),\n",
    "    loss='sparse_categorical_crossentropy',\n",
    "    metrics=['accuracy'],\n",
    ")\n",
    "\n",
    "model.fit(\n",
    "    X_train, y_train,\n",
    "    validation_data=(X_val, y_val),\n",
    "    epochs=20,\n",
    "    batch_size=32,\n",
    "    verbose=True,\n",
    ")\n",
    "\n",
    "y_predictions_probability = model.predict(X_test)\n",
    "nn_predictions = np.argmax(y_predictions_probability, axis=1)"
   ],
   "metadata": {
    "ExecuteTime": {
     "end_time": "2025-09-11T16:13:01.183159Z",
     "start_time": "2025-09-11T16:13:00.679301Z"
    },
    "trusted": true,
    "execution": {
     "iopub.status.busy": "2025-09-11T16:49:14.072229Z",
     "iopub.execute_input": "2025-09-11T16:49:14.072565Z",
     "iopub.status.idle": "2025-09-11T16:52:37.371003Z",
     "shell.execute_reply.started": "2025-09-11T16:49:14.072535Z",
     "shell.execute_reply": "2025-09-11T16:52:37.369802Z"
    }
   },
   "outputs": [
    {
     "name": "stdout",
     "text": "Epoch 1/20\n\u001B[1m3176/3176\u001B[0m \u001B[32m━━━━━━━━━━━━━━━━━━━━\u001B[0m\u001B[37m\u001B[0m \u001B[1m12s\u001B[0m 3ms/step - accuracy: 0.4211 - loss: 2.1193 - val_accuracy: 0.5261 - val_loss: 1.6404\nEpoch 2/20\n\u001B[1m3176/3176\u001B[0m \u001B[32m━━━━━━━━━━━━━━━━━━━━\u001B[0m\u001B[37m\u001B[0m \u001B[1m10s\u001B[0m 3ms/step - accuracy: 0.5229 - loss: 1.6362 - val_accuracy: 0.5363 - val_loss: 1.5935\nEpoch 3/20\n\u001B[1m3176/3176\u001B[0m \u001B[32m━━━━━━━━━━━━━━━━━━━━\u001B[0m\u001B[37m\u001B[0m \u001B[1m10s\u001B[0m 3ms/step - accuracy: 0.5414 - loss: 1.5677 - val_accuracy: 0.5445 - val_loss: 1.5619\nEpoch 4/20\n\u001B[1m3176/3176\u001B[0m \u001B[32m━━━━━━━━━━━━━━━━━━━━\u001B[0m\u001B[37m\u001B[0m \u001B[1m10s\u001B[0m 3ms/step - accuracy: 0.5495 - loss: 1.5349 - val_accuracy: 0.5492 - val_loss: 1.5431\nEpoch 5/20\n\u001B[1m3176/3176\u001B[0m \u001B[32m━━━━━━━━━━━━━━━━━━━━\u001B[0m\u001B[37m\u001B[0m \u001B[1m10s\u001B[0m 3ms/step - accuracy: 0.5524 - loss: 1.5067 - val_accuracy: 0.5510 - val_loss: 1.5370\nEpoch 6/20\n\u001B[1m3176/3176\u001B[0m \u001B[32m━━━━━━━━━━━━━━━━━━━━\u001B[0m\u001B[37m\u001B[0m \u001B[1m10s\u001B[0m 3ms/step - accuracy: 0.5663 - loss: 1.4712 - val_accuracy: 0.5596 - val_loss: 1.5179\nEpoch 7/20\n\u001B[1m3176/3176\u001B[0m \u001B[32m━━━━━━━━━━━━━━━━━━━━\u001B[0m\u001B[37m\u001B[0m \u001B[1m10s\u001B[0m 3ms/step - accuracy: 0.5659 - loss: 1.4675 - val_accuracy: 0.5564 - val_loss: 1.5236\nEpoch 8/20\n\u001B[1m3176/3176\u001B[0m \u001B[32m━━━━━━━━━━━━━━━━━━━━\u001B[0m\u001B[37m\u001B[0m \u001B[1m10s\u001B[0m 3ms/step - accuracy: 0.5725 - loss: 1.4501 - val_accuracy: 0.5551 - val_loss: 1.5170\nEpoch 9/20\n\u001B[1m3176/3176\u001B[0m \u001B[32m━━━━━━━━━━━━━━━━━━━━\u001B[0m\u001B[37m\u001B[0m \u001B[1m10s\u001B[0m 3ms/step - accuracy: 0.5721 - loss: 1.4411 - val_accuracy: 0.5596 - val_loss: 1.5068\nEpoch 10/20\n\u001B[1m3176/3176\u001B[0m \u001B[32m━━━━━━━━━━━━━━━━━━━━\u001B[0m\u001B[37m\u001B[0m \u001B[1m10s\u001B[0m 3ms/step - accuracy: 0.5767 - loss: 1.4237 - val_accuracy: 0.5599 - val_loss: 1.5056\nEpoch 11/20\n\u001B[1m3176/3176\u001B[0m \u001B[32m━━━━━━━━━━━━━━━━━━━━\u001B[0m\u001B[37m\u001B[0m \u001B[1m10s\u001B[0m 3ms/step - accuracy: 0.5808 - loss: 1.4091 - val_accuracy: 0.5576 - val_loss: 1.5087\nEpoch 12/20\n\u001B[1m3176/3176\u001B[0m \u001B[32m━━━━━━━━━━━━━━━━━━━━\u001B[0m\u001B[37m\u001B[0m \u001B[1m10s\u001B[0m 3ms/step - accuracy: 0.5785 - loss: 1.4086 - val_accuracy: 0.5545 - val_loss: 1.5190\nEpoch 13/20\n\u001B[1m3176/3176\u001B[0m \u001B[32m━━━━━━━━━━━━━━━━━━━━\u001B[0m\u001B[37m\u001B[0m \u001B[1m10s\u001B[0m 3ms/step - accuracy: 0.5855 - loss: 1.3892 - val_accuracy: 0.5629 - val_loss: 1.4958\nEpoch 14/20\n\u001B[1m3176/3176\u001B[0m \u001B[32m━━━━━━━━━━━━━━━━━━━━\u001B[0m\u001B[37m\u001B[0m \u001B[1m10s\u001B[0m 3ms/step - accuracy: 0.5853 - loss: 1.3855 - val_accuracy: 0.5593 - val_loss: 1.5117\nEpoch 15/20\n\u001B[1m3176/3176\u001B[0m \u001B[32m━━━━━━━━━━━━━━━━━━━━\u001B[0m\u001B[37m\u001B[0m \u001B[1m10s\u001B[0m 3ms/step - accuracy: 0.5893 - loss: 1.3763 - val_accuracy: 0.5645 - val_loss: 1.4979\nEpoch 16/20\n\u001B[1m3176/3176\u001B[0m \u001B[32m━━━━━━━━━━━━━━━━━━━━\u001B[0m\u001B[37m\u001B[0m \u001B[1m10s\u001B[0m 3ms/step - accuracy: 0.5913 - loss: 1.3666 - val_accuracy: 0.5603 - val_loss: 1.5178\nEpoch 17/20\n\u001B[1m3176/3176\u001B[0m \u001B[32m━━━━━━━━━━━━━━━━━━━━\u001B[0m\u001B[37m\u001B[0m \u001B[1m10s\u001B[0m 3ms/step - accuracy: 0.5904 - loss: 1.3581 - val_accuracy: 0.5630 - val_loss: 1.5005\nEpoch 18/20\n\u001B[1m3176/3176\u001B[0m \u001B[32m━━━━━━━━━━━━━━━━━━━━\u001B[0m\u001B[37m\u001B[0m \u001B[1m10s\u001B[0m 3ms/step - accuracy: 0.5969 - loss: 1.3464 - val_accuracy: 0.5546 - val_loss: 1.5271\nEpoch 19/20\n\u001B[1m3176/3176\u001B[0m \u001B[32m━━━━━━━━━━━━━━━━━━━━\u001B[0m\u001B[37m\u001B[0m \u001B[1m10s\u001B[0m 3ms/step - accuracy: 0.5955 - loss: 1.3433 - val_accuracy: 0.5638 - val_loss: 1.5085\nEpoch 20/20\n\u001B[1m3176/3176\u001B[0m \u001B[32m━━━━━━━━━━━━━━━━━━━━\u001B[0m\u001B[37m\u001B[0m \u001B[1m10s\u001B[0m 3ms/step - accuracy: 0.5993 - loss: 1.3305 - val_accuracy: 0.5617 - val_loss: 1.5230\n\u001B[1m1059/1059\u001B[0m \u001B[32m━━━━━━━━━━━━━━━━━━━━\u001B[0m\u001B[37m\u001B[0m \u001B[1m2s\u001B[0m 1ms/step\n",
     "output_type": "stream"
    }
   ],
   "execution_count": 21
  },
  {
   "id": "902faae0997e08c4",
   "cell_type": "code",
   "source": "f1 = report['macro avg']['f1-score']\nrecall = report['macro avg']['recall']\nprecision = report['macro avg']['precision']\n\nprint(f\"Accuracy: {accuracy:.4f}\")\nprint(f\"F1: {f1:.4f}\")\nprint(f\"Recall: {recall:.4f}\")\nprint(f\"Precision: {precision:.4f}\")",
   "metadata": {
    "trusted": true,
    "execution": {
     "iopub.status.busy": "2025-09-11T16:52:37.372306Z",
     "iopub.execute_input": "2025-09-11T16:52:37.372625Z",
     "iopub.status.idle": "2025-09-11T16:52:37.379234Z",
     "shell.execute_reply.started": "2025-09-11T16:52:37.372599Z",
     "shell.execute_reply": "2025-09-11T16:52:37.378203Z"
    }
   },
   "outputs": [
    {
     "name": "stdout",
     "text": "Accuracy: 0.5441\nF1: 0.3245\nRecall: 0.2877\nPrecision: 0.4724\n",
     "output_type": "stream"
    }
   ],
   "execution_count": 22
  }
 ]
}
