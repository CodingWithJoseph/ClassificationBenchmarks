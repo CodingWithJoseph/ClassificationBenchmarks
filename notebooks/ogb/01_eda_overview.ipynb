{
 "cells": [
  {
   "metadata": {},
   "cell_type": "markdown",
   "source": [
    "# Exploratory Data Analysis of the OGBN-ARXIV Dataset\n",
    "\n",
    "This notebook provides a simple EDA of the `ogbn-arxiv` dataset from the Open Graph Benchmark (OGB)."
   ],
   "id": "1f1156290d88e97f"
  },
  {
   "metadata": {
    "ExecuteTime": {
     "end_time": "2025-09-15T21:13:00.458609Z",
     "start_time": "2025-09-15T21:13:00.449528Z"
    }
   },
   "cell_type": "code",
   "source": [
    "from ogb.nodeproppred import NodePropPredDataset\n",
    "from sklearn.manifold import TSNE\n",
    "import matplotlib.pyplot as plt\n",
    "import pandas as pd\n",
    "import numpy as np\n",
    "import warnings\n",
    "import torch\n",
    "\n",
    "warnings.filterwarnings(\"ignore\", message=\".*weights_only=False.*\")"
   ],
   "id": "b953c34da01006cb",
   "outputs": [],
   "execution_count": 14
  },
  {
   "metadata": {},
   "cell_type": "markdown",
   "source": "## Load Dataset",
   "id": "79f7f9d45e52e6a9"
  },
  {
   "metadata": {
    "ExecuteTime": {
     "end_time": "2025-09-15T23:25:38.632179Z",
     "start_time": "2025-09-15T23:25:31.032731Z"
    }
   },
   "cell_type": "code",
   "source": [
    "dataset = NodePropPredDataset(name=\"ogbn-arxiv\", root=\"../../data/ogbn\")\n",
    "graph, labels = dataset[0]"
   ],
   "id": "6c7c2404f4d1cb28",
   "outputs": [
    {
     "ename": "RecursionError",
     "evalue": "maximum recursion depth exceeded",
     "output_type": "error",
     "traceback": [
      "\u001B[1;31m---------------------------------------------------------------------------\u001B[0m",
      "\u001B[1;31mRecursionError\u001B[0m                            Traceback (most recent call last)",
      "Cell \u001B[1;32mIn[16], line 1\u001B[0m\n\u001B[1;32m----> 1\u001B[0m dataset \u001B[38;5;241m=\u001B[39m NodePropPredDataset(name\u001B[38;5;241m=\u001B[39m\u001B[38;5;124m\"\u001B[39m\u001B[38;5;124mogbn-arxiv\u001B[39m\u001B[38;5;124m\"\u001B[39m, root\u001B[38;5;241m=\u001B[39m\u001B[38;5;124m\"\u001B[39m\u001B[38;5;124m../../data/ogb\u001B[39m\u001B[38;5;124m\"\u001B[39m)\n\u001B[0;32m      2\u001B[0m graph, labels \u001B[38;5;241m=\u001B[39m dataset[\u001B[38;5;241m0\u001B[39m]\n",
      "File \u001B[1;32m~\\AppData\\Roaming\\Python\\Python313\\site-packages\\ogb\\nodeproppred\\dataset.py:63\u001B[0m, in \u001B[0;36mNodePropPredDataset.__init__\u001B[1;34m(self, name, root, meta_dict)\u001B[0m\n\u001B[0;32m     59\u001B[0m \u001B[38;5;28mself\u001B[39m\u001B[38;5;241m.\u001B[39mbinary \u001B[38;5;241m=\u001B[39m \u001B[38;5;28mself\u001B[39m\u001B[38;5;241m.\u001B[39mmeta_info[\u001B[38;5;124m'\u001B[39m\u001B[38;5;124mbinary\u001B[39m\u001B[38;5;124m'\u001B[39m] \u001B[38;5;241m==\u001B[39m \u001B[38;5;124m'\u001B[39m\u001B[38;5;124mTrue\u001B[39m\u001B[38;5;124m'\u001B[39m\n\u001B[0;32m     61\u001B[0m \u001B[38;5;28msuper\u001B[39m(NodePropPredDataset, \u001B[38;5;28mself\u001B[39m)\u001B[38;5;241m.\u001B[39m\u001B[38;5;21m__init__\u001B[39m()\n\u001B[1;32m---> 63\u001B[0m \u001B[38;5;28mself\u001B[39m\u001B[38;5;241m.\u001B[39mpre_process()\n",
      "File \u001B[1;32m~\\AppData\\Roaming\\Python\\Python313\\site-packages\\ogb\\nodeproppred\\dataset.py:70\u001B[0m, in \u001B[0;36mNodePropPredDataset.pre_process\u001B[1;34m(self)\u001B[0m\n\u001B[0;32m     67\u001B[0m pre_processed_file_path \u001B[38;5;241m=\u001B[39m osp\u001B[38;5;241m.\u001B[39mjoin(processed_dir, \u001B[38;5;124m'\u001B[39m\u001B[38;5;124mdata_processed\u001B[39m\u001B[38;5;124m'\u001B[39m)\n\u001B[0;32m     69\u001B[0m \u001B[38;5;28;01mif\u001B[39;00m osp\u001B[38;5;241m.\u001B[39mexists(pre_processed_file_path):\n\u001B[1;32m---> 70\u001B[0m     loaded_dict \u001B[38;5;241m=\u001B[39m torch\u001B[38;5;241m.\u001B[39mload(pre_processed_file_path)\n\u001B[0;32m     71\u001B[0m     \u001B[38;5;28mself\u001B[39m\u001B[38;5;241m.\u001B[39mgraph, \u001B[38;5;28mself\u001B[39m\u001B[38;5;241m.\u001B[39mlabels \u001B[38;5;241m=\u001B[39m loaded_dict[\u001B[38;5;124m'\u001B[39m\u001B[38;5;124mgraph\u001B[39m\u001B[38;5;124m'\u001B[39m], loaded_dict[\u001B[38;5;124m'\u001B[39m\u001B[38;5;124mlabels\u001B[39m\u001B[38;5;124m'\u001B[39m]\n\u001B[0;32m     73\u001B[0m \u001B[38;5;28;01melse\u001B[39;00m:\n\u001B[0;32m     74\u001B[0m     \u001B[38;5;66;03m### check download\u001B[39;00m\n",
      "Cell \u001B[1;32mIn[14], line 13\u001B[0m, in \u001B[0;36msafe_torch_load\u001B[1;34m(f, *args, **kwargs)\u001B[0m\n\u001B[0;32m     12\u001B[0m \u001B[38;5;28;01mdef\u001B[39;00m\u001B[38;5;250m \u001B[39m\u001B[38;5;21msafe_torch_load\u001B[39m(f, \u001B[38;5;241m*\u001B[39margs, \u001B[38;5;241m*\u001B[39m\u001B[38;5;241m*\u001B[39mkwargs):\n\u001B[1;32m---> 13\u001B[0m     \u001B[38;5;28;01mreturn\u001B[39;00m _real_torch_load(f, \u001B[38;5;241m*\u001B[39margs, \u001B[38;5;241m*\u001B[39m\u001B[38;5;241m*\u001B[39m{\u001B[38;5;241m*\u001B[39m\u001B[38;5;241m*\u001B[39mkwargs, \u001B[38;5;124m\"\u001B[39m\u001B[38;5;124mweights_only\u001B[39m\u001B[38;5;124m\"\u001B[39m: \u001B[38;5;28;01mFalse\u001B[39;00m})\n",
      "Cell \u001B[1;32mIn[12], line 10\u001B[0m, in \u001B[0;36m<lambda>\u001B[1;34m(f, *args, **kwargs)\u001B[0m\n\u001B[0;32m      7\u001B[0m \u001B[38;5;28;01mimport\u001B[39;00m\u001B[38;5;250m \u001B[39m\u001B[38;5;21;01mtorch\u001B[39;00m\n\u001B[0;32m      9\u001B[0m old_torch_load \u001B[38;5;241m=\u001B[39m torch\u001B[38;5;241m.\u001B[39mload\n\u001B[1;32m---> 10\u001B[0m torch\u001B[38;5;241m.\u001B[39mload \u001B[38;5;241m=\u001B[39m \u001B[38;5;28;01mlambda\u001B[39;00m f, \u001B[38;5;241m*\u001B[39margs, \u001B[38;5;241m*\u001B[39m\u001B[38;5;241m*\u001B[39mkwargs: old_torch_load(f, \u001B[38;5;241m*\u001B[39margs, \u001B[38;5;241m*\u001B[39m\u001B[38;5;241m*\u001B[39m{\u001B[38;5;241m*\u001B[39m\u001B[38;5;241m*\u001B[39mkwargs, \u001B[38;5;124m\"\u001B[39m\u001B[38;5;124mweights_only\u001B[39m\u001B[38;5;124m\"\u001B[39m: \u001B[38;5;28;01mFalse\u001B[39;00m})\n\u001B[0;32m     12\u001B[0m warnings\u001B[38;5;241m.\u001B[39mfilterwarnings(\u001B[38;5;124m\"\u001B[39m\u001B[38;5;124mignore\u001B[39m\u001B[38;5;124m\"\u001B[39m, message\u001B[38;5;241m=\u001B[39m\u001B[38;5;124m\"\u001B[39m\u001B[38;5;124m.*weights_only=False.*\u001B[39m\u001B[38;5;124m\"\u001B[39m)\n",
      "Cell \u001B[1;32mIn[11], line 10\u001B[0m, in \u001B[0;36m<lambda>\u001B[1;34m(f, *args, **kwargs)\u001B[0m\n\u001B[0;32m      7\u001B[0m \u001B[38;5;28;01mimport\u001B[39;00m\u001B[38;5;250m \u001B[39m\u001B[38;5;21;01mtorch\u001B[39;00m\n\u001B[0;32m      9\u001B[0m old_torch_load \u001B[38;5;241m=\u001B[39m torch\u001B[38;5;241m.\u001B[39mload\n\u001B[1;32m---> 10\u001B[0m torch\u001B[38;5;241m.\u001B[39mload \u001B[38;5;241m=\u001B[39m \u001B[38;5;28;01mlambda\u001B[39;00m f, \u001B[38;5;241m*\u001B[39margs, \u001B[38;5;241m*\u001B[39m\u001B[38;5;241m*\u001B[39mkwargs: old_torch_load(f, \u001B[38;5;241m*\u001B[39margs, \u001B[38;5;241m*\u001B[39m\u001B[38;5;241m*\u001B[39m{\u001B[38;5;241m*\u001B[39m\u001B[38;5;241m*\u001B[39mkwargs, \u001B[38;5;124m\"\u001B[39m\u001B[38;5;124mweights_only\u001B[39m\u001B[38;5;124m\"\u001B[39m: \u001B[38;5;28;01mFalse\u001B[39;00m})\n\u001B[0;32m     13\u001B[0m warnings\u001B[38;5;241m.\u001B[39mfilterwarnings(\u001B[38;5;124m\"\u001B[39m\u001B[38;5;124mignore\u001B[39m\u001B[38;5;124m\"\u001B[39m, message\u001B[38;5;241m=\u001B[39m\u001B[38;5;124m\"\u001B[39m\u001B[38;5;124m.*weights_only=False.*\u001B[39m\u001B[38;5;124m\"\u001B[39m)\n",
      "    \u001B[1;31m[... skipping similar frames: <lambda> at line 10 (2971 times)]\u001B[0m\n",
      "Cell \u001B[1;32mIn[11], line 10\u001B[0m, in \u001B[0;36m<lambda>\u001B[1;34m(f, *args, **kwargs)\u001B[0m\n\u001B[0;32m      7\u001B[0m \u001B[38;5;28;01mimport\u001B[39;00m\u001B[38;5;250m \u001B[39m\u001B[38;5;21;01mtorch\u001B[39;00m\n\u001B[0;32m      9\u001B[0m old_torch_load \u001B[38;5;241m=\u001B[39m torch\u001B[38;5;241m.\u001B[39mload\n\u001B[1;32m---> 10\u001B[0m torch\u001B[38;5;241m.\u001B[39mload \u001B[38;5;241m=\u001B[39m \u001B[38;5;28;01mlambda\u001B[39;00m f, \u001B[38;5;241m*\u001B[39margs, \u001B[38;5;241m*\u001B[39m\u001B[38;5;241m*\u001B[39mkwargs: old_torch_load(f, \u001B[38;5;241m*\u001B[39margs, \u001B[38;5;241m*\u001B[39m\u001B[38;5;241m*\u001B[39m{\u001B[38;5;241m*\u001B[39m\u001B[38;5;241m*\u001B[39mkwargs, \u001B[38;5;124m\"\u001B[39m\u001B[38;5;124mweights_only\u001B[39m\u001B[38;5;124m\"\u001B[39m: \u001B[38;5;28;01mFalse\u001B[39;00m})\n\u001B[0;32m     13\u001B[0m warnings\u001B[38;5;241m.\u001B[39mfilterwarnings(\u001B[38;5;124m\"\u001B[39m\u001B[38;5;124mignore\u001B[39m\u001B[38;5;124m\"\u001B[39m, message\u001B[38;5;241m=\u001B[39m\u001B[38;5;124m\"\u001B[39m\u001B[38;5;124m.*weights_only=False.*\u001B[39m\u001B[38;5;124m\"\u001B[39m)\n",
      "\u001B[1;31mRecursionError\u001B[0m: maximum recursion depth exceeded"
     ]
    }
   ],
   "execution_count": 16
  },
  {
   "metadata": {
    "ExecuteTime": {
     "end_time": "2025-09-15T23:25:38.634957Z",
     "start_time": "2025-09-15T21:04:08.776536Z"
    }
   },
   "cell_type": "code",
   "source": [
    "node_feat = pd.DataFrame(data=graph['node_feat'])\n",
    "edge_feat = pd.DataFrame(data=graph['edge_feat'])\n",
    "edge_index = pd.DataFrame(data=graph['edge_index'])\n",
    "node_year = pd.DataFrame(data=graph['node_year'])\n",
    "node_feat['label'] = labels.flatten()"
   ],
   "id": "f39bb5188b56e4e6",
   "outputs": [],
   "execution_count": 3
  },
  {
   "metadata": {
    "ExecuteTime": {
     "end_time": "2025-09-15T23:25:38.635958300Z",
     "start_time": "2025-09-15T21:04:09.968956Z"
    }
   },
   "cell_type": "code",
   "source": "node_feat.head()",
   "id": "54cd01a7b54f95a2",
   "outputs": [
    {
     "data": {
      "text/plain": [
       "          0         1         2         3         4         5         6  \\\n",
       "0 -0.057943 -0.052530 -0.072603 -0.026555  0.130435 -0.241386 -0.449242   \n",
       "1 -0.124500 -0.070665 -0.325202  0.007779 -0.001559  0.074189 -0.191013   \n",
       "2 -0.080242 -0.023328 -0.183787 -0.180707  0.075765 -0.125818 -0.394573   \n",
       "3 -0.145044  0.054915 -0.126666  0.039971 -0.055909 -0.101278 -0.339202   \n",
       "4 -0.071154  0.070766 -0.281432 -0.161892 -0.165246 -0.029116 -0.338593   \n",
       "\n",
       "          7         8         9  ...       119       120       121       122  \\\n",
       "0 -0.018443 -0.087218  0.112320  ... -0.226118 -0.185603  0.053230  0.332873   \n",
       "1  0.049689  0.026369  0.099364  ...  0.052926 -0.258378  0.021567  0.281503   \n",
       "2 -0.219078 -0.108931  0.056966  ... -0.070291 -0.177562 -0.214012  0.182186   \n",
       "3 -0.115801 -0.080058 -0.001633  ...  0.042735  0.066338 -0.226921  0.188418   \n",
       "4 -0.138727  0.100015  0.132794  ...  0.047475 -0.263795  0.026462  0.376349   \n",
       "\n",
       "        123       124       125       126       127  label  \n",
       "0  0.104175  0.007408  0.173364 -0.172796 -0.140059      4  \n",
       "1 -0.173423  0.202082  0.068524 -0.372111 -0.301036      5  \n",
       "2 -0.121589 -0.073642  0.109919  0.117589 -0.139883     28  \n",
       "3 -0.017295  0.063449  0.017816  0.085364 -0.081804      8  \n",
       "4 -0.253772  0.084472  0.098033 -0.075347 -0.111687     27  \n",
       "\n",
       "[5 rows x 129 columns]"
      ],
      "text/html": [
       "<div>\n",
       "<style scoped>\n",
       "    .dataframe tbody tr th:only-of-type {\n",
       "        vertical-align: middle;\n",
       "    }\n",
       "\n",
       "    .dataframe tbody tr th {\n",
       "        vertical-align: top;\n",
       "    }\n",
       "\n",
       "    .dataframe thead th {\n",
       "        text-align: right;\n",
       "    }\n",
       "</style>\n",
       "<table border=\"1\" class=\"dataframe\">\n",
       "  <thead>\n",
       "    <tr style=\"text-align: right;\">\n",
       "      <th></th>\n",
       "      <th>0</th>\n",
       "      <th>1</th>\n",
       "      <th>2</th>\n",
       "      <th>3</th>\n",
       "      <th>4</th>\n",
       "      <th>5</th>\n",
       "      <th>6</th>\n",
       "      <th>7</th>\n",
       "      <th>8</th>\n",
       "      <th>9</th>\n",
       "      <th>...</th>\n",
       "      <th>119</th>\n",
       "      <th>120</th>\n",
       "      <th>121</th>\n",
       "      <th>122</th>\n",
       "      <th>123</th>\n",
       "      <th>124</th>\n",
       "      <th>125</th>\n",
       "      <th>126</th>\n",
       "      <th>127</th>\n",
       "      <th>label</th>\n",
       "    </tr>\n",
       "  </thead>\n",
       "  <tbody>\n",
       "    <tr>\n",
       "      <th>0</th>\n",
       "      <td>-0.057943</td>\n",
       "      <td>-0.052530</td>\n",
       "      <td>-0.072603</td>\n",
       "      <td>-0.026555</td>\n",
       "      <td>0.130435</td>\n",
       "      <td>-0.241386</td>\n",
       "      <td>-0.449242</td>\n",
       "      <td>-0.018443</td>\n",
       "      <td>-0.087218</td>\n",
       "      <td>0.112320</td>\n",
       "      <td>...</td>\n",
       "      <td>-0.226118</td>\n",
       "      <td>-0.185603</td>\n",
       "      <td>0.053230</td>\n",
       "      <td>0.332873</td>\n",
       "      <td>0.104175</td>\n",
       "      <td>0.007408</td>\n",
       "      <td>0.173364</td>\n",
       "      <td>-0.172796</td>\n",
       "      <td>-0.140059</td>\n",
       "      <td>4</td>\n",
       "    </tr>\n",
       "    <tr>\n",
       "      <th>1</th>\n",
       "      <td>-0.124500</td>\n",
       "      <td>-0.070665</td>\n",
       "      <td>-0.325202</td>\n",
       "      <td>0.007779</td>\n",
       "      <td>-0.001559</td>\n",
       "      <td>0.074189</td>\n",
       "      <td>-0.191013</td>\n",
       "      <td>0.049689</td>\n",
       "      <td>0.026369</td>\n",
       "      <td>0.099364</td>\n",
       "      <td>...</td>\n",
       "      <td>0.052926</td>\n",
       "      <td>-0.258378</td>\n",
       "      <td>0.021567</td>\n",
       "      <td>0.281503</td>\n",
       "      <td>-0.173423</td>\n",
       "      <td>0.202082</td>\n",
       "      <td>0.068524</td>\n",
       "      <td>-0.372111</td>\n",
       "      <td>-0.301036</td>\n",
       "      <td>5</td>\n",
       "    </tr>\n",
       "    <tr>\n",
       "      <th>2</th>\n",
       "      <td>-0.080242</td>\n",
       "      <td>-0.023328</td>\n",
       "      <td>-0.183787</td>\n",
       "      <td>-0.180707</td>\n",
       "      <td>0.075765</td>\n",
       "      <td>-0.125818</td>\n",
       "      <td>-0.394573</td>\n",
       "      <td>-0.219078</td>\n",
       "      <td>-0.108931</td>\n",
       "      <td>0.056966</td>\n",
       "      <td>...</td>\n",
       "      <td>-0.070291</td>\n",
       "      <td>-0.177562</td>\n",
       "      <td>-0.214012</td>\n",
       "      <td>0.182186</td>\n",
       "      <td>-0.121589</td>\n",
       "      <td>-0.073642</td>\n",
       "      <td>0.109919</td>\n",
       "      <td>0.117589</td>\n",
       "      <td>-0.139883</td>\n",
       "      <td>28</td>\n",
       "    </tr>\n",
       "    <tr>\n",
       "      <th>3</th>\n",
       "      <td>-0.145044</td>\n",
       "      <td>0.054915</td>\n",
       "      <td>-0.126666</td>\n",
       "      <td>0.039971</td>\n",
       "      <td>-0.055909</td>\n",
       "      <td>-0.101278</td>\n",
       "      <td>-0.339202</td>\n",
       "      <td>-0.115801</td>\n",
       "      <td>-0.080058</td>\n",
       "      <td>-0.001633</td>\n",
       "      <td>...</td>\n",
       "      <td>0.042735</td>\n",
       "      <td>0.066338</td>\n",
       "      <td>-0.226921</td>\n",
       "      <td>0.188418</td>\n",
       "      <td>-0.017295</td>\n",
       "      <td>0.063449</td>\n",
       "      <td>0.017816</td>\n",
       "      <td>0.085364</td>\n",
       "      <td>-0.081804</td>\n",
       "      <td>8</td>\n",
       "    </tr>\n",
       "    <tr>\n",
       "      <th>4</th>\n",
       "      <td>-0.071154</td>\n",
       "      <td>0.070766</td>\n",
       "      <td>-0.281432</td>\n",
       "      <td>-0.161892</td>\n",
       "      <td>-0.165246</td>\n",
       "      <td>-0.029116</td>\n",
       "      <td>-0.338593</td>\n",
       "      <td>-0.138727</td>\n",
       "      <td>0.100015</td>\n",
       "      <td>0.132794</td>\n",
       "      <td>...</td>\n",
       "      <td>0.047475</td>\n",
       "      <td>-0.263795</td>\n",
       "      <td>0.026462</td>\n",
       "      <td>0.376349</td>\n",
       "      <td>-0.253772</td>\n",
       "      <td>0.084472</td>\n",
       "      <td>0.098033</td>\n",
       "      <td>-0.075347</td>\n",
       "      <td>-0.111687</td>\n",
       "      <td>27</td>\n",
       "    </tr>\n",
       "  </tbody>\n",
       "</table>\n",
       "<p>5 rows × 129 columns</p>\n",
       "</div>"
      ]
     },
     "execution_count": 4,
     "metadata": {},
     "output_type": "execute_result"
    }
   ],
   "execution_count": 4
  },
  {
   "metadata": {
    "ExecuteTime": {
     "end_time": "2025-09-15T23:25:38.637958100Z",
     "start_time": "2025-09-15T21:04:12.495882Z"
    }
   },
   "cell_type": "code",
   "source": "edge_feat.head()",
   "id": "fb47f0040c7e3e3f",
   "outputs": [
    {
     "data": {
      "text/plain": [
       "Empty DataFrame\n",
       "Columns: []\n",
       "Index: []"
      ],
      "text/html": [
       "<div>\n",
       "<style scoped>\n",
       "    .dataframe tbody tr th:only-of-type {\n",
       "        vertical-align: middle;\n",
       "    }\n",
       "\n",
       "    .dataframe tbody tr th {\n",
       "        vertical-align: top;\n",
       "    }\n",
       "\n",
       "    .dataframe thead th {\n",
       "        text-align: right;\n",
       "    }\n",
       "</style>\n",
       "<table border=\"1\" class=\"dataframe\">\n",
       "  <thead>\n",
       "    <tr style=\"text-align: right;\">\n",
       "      <th></th>\n",
       "    </tr>\n",
       "  </thead>\n",
       "  <tbody>\n",
       "  </tbody>\n",
       "</table>\n",
       "</div>"
      ]
     },
     "execution_count": 5,
     "metadata": {},
     "output_type": "execute_result"
    }
   ],
   "execution_count": 5
  },
  {
   "metadata": {
    "ExecuteTime": {
     "end_time": "2025-09-15T23:25:38.639958800Z",
     "start_time": "2025-09-15T21:04:14.495093Z"
    }
   },
   "cell_type": "code",
   "source": "edge_index.head()",
   "id": "96d6e5104cb5f22f",
   "outputs": [
    {
     "data": {
      "text/plain": [
       "   0        1        2        3        4        5        6        7        \\\n",
       "0   104447    15858   107156   107156   107156   107156   141536   141536   \n",
       "1    13091    47283    69161   136440   107366   158460    90124   121740   \n",
       "\n",
       "   8        9        ...  1166233  1166234  1166235  1166236  1166237  \\\n",
       "0   141536   141536  ...    45118    45118    45118    45118    45118   \n",
       "1   122427   161023  ...   144525    49499    29457   144665   135414   \n",
       "\n",
       "   1166238  1166239  1166240  1166241  1166242  \n",
       "0    45118    45118    45118    45118    45118  \n",
       "1    79124   147994   162473   162537    72717  \n",
       "\n",
       "[2 rows x 1166243 columns]"
      ],
      "text/html": [
       "<div>\n",
       "<style scoped>\n",
       "    .dataframe tbody tr th:only-of-type {\n",
       "        vertical-align: middle;\n",
       "    }\n",
       "\n",
       "    .dataframe tbody tr th {\n",
       "        vertical-align: top;\n",
       "    }\n",
       "\n",
       "    .dataframe thead th {\n",
       "        text-align: right;\n",
       "    }\n",
       "</style>\n",
       "<table border=\"1\" class=\"dataframe\">\n",
       "  <thead>\n",
       "    <tr style=\"text-align: right;\">\n",
       "      <th></th>\n",
       "      <th>0</th>\n",
       "      <th>1</th>\n",
       "      <th>2</th>\n",
       "      <th>3</th>\n",
       "      <th>4</th>\n",
       "      <th>5</th>\n",
       "      <th>6</th>\n",
       "      <th>7</th>\n",
       "      <th>8</th>\n",
       "      <th>9</th>\n",
       "      <th>...</th>\n",
       "      <th>1166233</th>\n",
       "      <th>1166234</th>\n",
       "      <th>1166235</th>\n",
       "      <th>1166236</th>\n",
       "      <th>1166237</th>\n",
       "      <th>1166238</th>\n",
       "      <th>1166239</th>\n",
       "      <th>1166240</th>\n",
       "      <th>1166241</th>\n",
       "      <th>1166242</th>\n",
       "    </tr>\n",
       "  </thead>\n",
       "  <tbody>\n",
       "    <tr>\n",
       "      <th>0</th>\n",
       "      <td>104447</td>\n",
       "      <td>15858</td>\n",
       "      <td>107156</td>\n",
       "      <td>107156</td>\n",
       "      <td>107156</td>\n",
       "      <td>107156</td>\n",
       "      <td>141536</td>\n",
       "      <td>141536</td>\n",
       "      <td>141536</td>\n",
       "      <td>141536</td>\n",
       "      <td>...</td>\n",
       "      <td>45118</td>\n",
       "      <td>45118</td>\n",
       "      <td>45118</td>\n",
       "      <td>45118</td>\n",
       "      <td>45118</td>\n",
       "      <td>45118</td>\n",
       "      <td>45118</td>\n",
       "      <td>45118</td>\n",
       "      <td>45118</td>\n",
       "      <td>45118</td>\n",
       "    </tr>\n",
       "    <tr>\n",
       "      <th>1</th>\n",
       "      <td>13091</td>\n",
       "      <td>47283</td>\n",
       "      <td>69161</td>\n",
       "      <td>136440</td>\n",
       "      <td>107366</td>\n",
       "      <td>158460</td>\n",
       "      <td>90124</td>\n",
       "      <td>121740</td>\n",
       "      <td>122427</td>\n",
       "      <td>161023</td>\n",
       "      <td>...</td>\n",
       "      <td>144525</td>\n",
       "      <td>49499</td>\n",
       "      <td>29457</td>\n",
       "      <td>144665</td>\n",
       "      <td>135414</td>\n",
       "      <td>79124</td>\n",
       "      <td>147994</td>\n",
       "      <td>162473</td>\n",
       "      <td>162537</td>\n",
       "      <td>72717</td>\n",
       "    </tr>\n",
       "  </tbody>\n",
       "</table>\n",
       "<p>2 rows × 1166243 columns</p>\n",
       "</div>"
      ]
     },
     "execution_count": 6,
     "metadata": {},
     "output_type": "execute_result"
    }
   ],
   "execution_count": 6
  },
  {
   "metadata": {
    "ExecuteTime": {
     "end_time": "2025-09-15T21:06:08.724323Z",
     "start_time": "2025-09-15T21:06:08.716779Z"
    }
   },
   "cell_type": "code",
   "source": "node_year.head()",
   "id": "31427964b122a686",
   "outputs": [
    {
     "data": {
      "text/plain": [
       "      0\n",
       "0  2013\n",
       "1  2015\n",
       "2  2014\n",
       "3  2014\n",
       "4  2014"
      ],
      "text/html": [
       "<div>\n",
       "<style scoped>\n",
       "    .dataframe tbody tr th:only-of-type {\n",
       "        vertical-align: middle;\n",
       "    }\n",
       "\n",
       "    .dataframe tbody tr th {\n",
       "        vertical-align: top;\n",
       "    }\n",
       "\n",
       "    .dataframe thead th {\n",
       "        text-align: right;\n",
       "    }\n",
       "</style>\n",
       "<table border=\"1\" class=\"dataframe\">\n",
       "  <thead>\n",
       "    <tr style=\"text-align: right;\">\n",
       "      <th></th>\n",
       "      <th>0</th>\n",
       "    </tr>\n",
       "  </thead>\n",
       "  <tbody>\n",
       "    <tr>\n",
       "      <th>0</th>\n",
       "      <td>2013</td>\n",
       "    </tr>\n",
       "    <tr>\n",
       "      <th>1</th>\n",
       "      <td>2015</td>\n",
       "    </tr>\n",
       "    <tr>\n",
       "      <th>2</th>\n",
       "      <td>2014</td>\n",
       "    </tr>\n",
       "    <tr>\n",
       "      <th>3</th>\n",
       "      <td>2014</td>\n",
       "    </tr>\n",
       "    <tr>\n",
       "      <th>4</th>\n",
       "      <td>2014</td>\n",
       "    </tr>\n",
       "  </tbody>\n",
       "</table>\n",
       "</div>"
      ]
     },
     "execution_count": 7,
     "metadata": {},
     "output_type": "execute_result"
    }
   ],
   "execution_count": 7
  },
  {
   "metadata": {},
   "cell_type": "code",
   "outputs": [],
   "execution_count": null,
   "source": "edges = pd.read_csv()",
   "id": "2d2fdaeead4f804a"
  },
  {
   "metadata": {},
   "cell_type": "markdown",
   "source": "## Summary Statistics and View Data",
   "id": "939fe69043d9edfc"
  },
  {
   "metadata": {},
   "cell_type": "code",
   "source": "node_feat.info()",
   "id": "1817abb9d7d9ae5b",
   "outputs": [],
   "execution_count": null
  },
  {
   "metadata": {},
   "cell_type": "code",
   "source": "node_feat.head()",
   "id": "7dbc4fa62413186f",
   "outputs": [],
   "execution_count": null
  },
  {
   "metadata": {},
   "cell_type": "markdown",
   "source": "## Feature stats",
   "id": "387bc1aa19918922"
  },
  {
   "metadata": {},
   "cell_type": "code",
   "source": "node_feat.describe()",
   "id": "ad3002acda7cc545",
   "outputs": [],
   "execution_count": null
  },
  {
   "metadata": {},
   "cell_type": "markdown",
   "source": "## Missing values",
   "id": "2bf12b673ea0cd90"
  },
  {
   "metadata": {},
   "cell_type": "code",
   "source": "node_feat.isna().sum().sum()",
   "id": "ee19cbc8baf7608a",
   "outputs": [],
   "execution_count": null
  },
  {
   "metadata": {},
   "cell_type": "markdown",
   "source": "## Target distribution",
   "id": "b1c93d721e2ef218"
  },
  {
   "metadata": {},
   "cell_type": "code",
   "source": [
    "node_feat['label'].value_counts().sort_index().plot(kind='bar')\n",
    "plt.title(\"Target distribution\")\n",
    "plt.xlabel(\"Class\")\n",
    "plt.ylabel(\"Count\")\n",
    "plt.show()"
   ],
   "id": "87c2a57d33a4722b",
   "outputs": [],
   "execution_count": null
  },
  {
   "metadata": {},
   "cell_type": "markdown",
   "source": "## Embedding Visualization",
   "id": "f171be651262bd5c"
  },
  {
   "metadata": {},
   "cell_type": "code",
   "source": [
    "sample_size = 5000\n",
    "\n",
    "X = node_feat.drop('label', axis=1).values\n",
    "y = node_feat['label'].values\n",
    "\n",
    "idx = np.random.choice(X.shape[0], sample_size, replace=False)\n",
    "X_sample = X[idx]\n",
    "y_sample = y[idx]\n",
    "\n",
    "tsne = TSNE(n_components=2, random_state=42, perplexity=30)\n",
    "X_2d = tsne.fit_transform(X_sample)\n",
    "\n",
    "plt.scatter(X_2d[:,0], X_2d[:,1], c=y_sample, cmap=\"tab20\", s=5, alpha=0.7)\n",
    "plt.title(\"t-SNE of node features (sampled)\")\n",
    "plt.show()"
   ],
   "id": "14989124087aeeb",
   "outputs": [],
   "execution_count": null
  }
 ],
 "metadata": {
  "kernelspec": {
   "display_name": "Python 3",
   "language": "python",
   "name": "python3"
  },
  "language_info": {
   "codemirror_mode": {
    "name": "ipython",
    "version": 2
   },
   "file_extension": ".py",
   "mimetype": "text/x-python",
   "name": "python",
   "nbconvert_exporter": "python",
   "pygments_lexer": "ipython2",
   "version": "2.7.6"
  }
 },
 "nbformat": 4,
 "nbformat_minor": 5
}
