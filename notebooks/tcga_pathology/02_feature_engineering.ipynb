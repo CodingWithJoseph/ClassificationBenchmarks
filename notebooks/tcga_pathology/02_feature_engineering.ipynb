{
 "cells": [
  {
   "cell_type": "code",
   "id": "initial_id",
   "metadata": {
    "collapsed": true,
    "ExecuteTime": {
     "end_time": "2025-09-12T18:13:59.522130Z",
     "start_time": "2025-09-12T18:13:58.886599Z"
    }
   },
   "source": [
    "from sklearn.preprocessing import LabelEncoder\n",
    "from transformers import AutoTokenizer, AutoModel\n",
    "import nltk\n",
    "from nltk.tokenize import word_tokenize, sent_tokenize\n",
    "from tqdm import tqdm\n",
    "import pandas as pd\n",
    "import torch\n",
    "\n",
    "nltk.download('punkt_tab')"
   ],
   "outputs": [
    {
     "name": "stderr",
     "output_type": "stream",
     "text": [
      "[nltk_data] Downloading package punkt to\n",
      "[nltk_data]     C:\\Users\\josep\\AppData\\Roaming\\nltk_data...\n",
      "[nltk_data]   Unzipping tokenizers\\punkt.zip.\n"
     ]
    }
   ],
   "execution_count": 53
  },
  {
   "metadata": {},
   "cell_type": "markdown",
   "source": "## Load Medical Reports and Cancer Type Data",
   "id": "b17d7444c7666e09"
  },
  {
   "metadata": {
    "ExecuteTime": {
     "end_time": "2025-09-12T18:14:05.071321Z",
     "start_time": "2025-09-12T18:14:04.868186Z"
    }
   },
   "cell_type": "code",
   "source": [
    "reports = pd.read_csv(r'../../data/tcga_pathology/raw/tcga_pathology_reports.csv')\n",
    "cancer_type = pd.read_csv(r'../../data/tcga_pathology/raw/tcga_patient_to_cancer_type.csv')"
   ],
   "id": "1cc8e40ff34548da",
   "outputs": [],
   "execution_count": 54
  },
  {
   "metadata": {},
   "cell_type": "markdown",
   "source": "## Length Based Feature Engineering",
   "id": "fafd13c1c41faf2e"
  },
  {
   "metadata": {
    "ExecuteTime": {
     "end_time": "2025-09-12T18:14:57.709424Z",
     "start_time": "2025-09-12T18:14:21.268137Z"
    }
   },
   "cell_type": "code",
   "source": [
    "reports['num_chars'] = reports['text'].apply(lambda x: len(x))\n",
    "reports['num_words'] = reports['text'].apply(lambda x: len(word_tokenize(x)))\n",
    "reports['num_sentences'] = reports['text'].apply(lambda x: len(sent_tokenize(x)))\n",
    "reports['avg_word_length'] = reports['num_chars'] / reports['num_words']"
   ],
   "id": "ff26d40845816ce1",
   "outputs": [
    {
     "name": "stderr",
     "output_type": "stream",
     "text": [
      "[nltk_data] Downloading package punkt_tab to\n",
      "[nltk_data]     C:\\Users\\josep\\AppData\\Roaming\\nltk_data...\n",
      "[nltk_data]   Unzipping tokenizers\\punkt_tab.zip.\n"
     ]
    }
   ],
   "execution_count": 56
  },
  {
   "metadata": {},
   "cell_type": "markdown",
   "source": "## Convert Medical Text Into Bert Text Embeddings",
   "id": "2a58bb81dfa261fb"
  },
  {
   "metadata": {
    "ExecuteTime": {
     "end_time": "2025-09-12T17:28:02.229214Z",
     "start_time": "2025-09-12T17:06:27.236644Z"
    }
   },
   "cell_type": "code",
   "source": [
    "model_name = 'emilyalsentzer/Bio_ClinicalBERT'\n",
    "tokenizer = AutoTokenizer.from_pretrained(model_name)\n",
    "model = AutoModel.from_pretrained(model_name)\n",
    "model.eval()\n",
    "\n",
    "def get_embedding(text):\n",
    "    inputs = tokenizer(\n",
    "        text,\n",
    "        padding=True,\n",
    "        truncation=True,\n",
    "        max_length=512,\n",
    "        return_tensors=\"pt\"\n",
    "    )\n",
    "\n",
    "    with torch.no_grad():\n",
    "        outputs = model(**inputs)\n",
    "        embeddings = outputs.last_hidden_state\n",
    "\n",
    "        mask = inputs['attention_mask'].unsqueeze(-1).expand(embeddings.size()).float()\n",
    "        summed = torch.sum(embeddings * mask, 1)\n",
    "        counts = torch.clamp(mask.sum(1), min=1e-9)\n",
    "        mean_pooled = summed / counts\n",
    "\n",
    "    return mean_pooled.squeeze().numpy()\n",
    "\n",
    "tqdm.pandas()\n",
    "\n",
    "reports['embeddings'] = reports['text'].apply(get_embedding)\n"
   ],
   "id": "6afae437ad8f5dd9",
   "outputs": [],
   "execution_count": 40
  },
  {
   "metadata": {},
   "cell_type": "markdown",
   "source": "## Flatten Text Embeddings & Merge Datasets",
   "id": "2d6af06329bde8e6"
  },
  {
   "metadata": {
    "ExecuteTime": {
     "end_time": "2025-09-12T17:34:45.274302Z",
     "start_time": "2025-09-12T17:34:43.768008Z"
    }
   },
   "cell_type": "code",
   "source": [
    "reports_emb = pd.DataFrame([emb.flatten() for emb in reports.embeddings.values])\n",
    "reports_emb['patient_id'] = reports['patient_filename'].str.split('.').str[0]\n",
    "data = reports_emb.merge(cancer_type, on='patient_id')"
   ],
   "id": "5f63fb6ef5b3d56c",
   "outputs": [],
   "execution_count": 41
  },
  {
   "metadata": {},
   "cell_type": "markdown",
   "source": "## Encode Cancer Type",
   "id": "f9a2061210783a85"
  },
  {
   "metadata": {
    "ExecuteTime": {
     "end_time": "2025-09-12T17:35:50.169606Z",
     "start_time": "2025-09-12T17:35:50.162178Z"
    }
   },
   "cell_type": "code",
   "source": [
    "le = LabelEncoder()\n",
    "data['cancer_labels'] = le.fit_transform(data['cancer_type'])"
   ],
   "id": "5983efa81ee87e99",
   "outputs": [],
   "execution_count": 43
  },
  {
   "metadata": {
    "ExecuteTime": {
     "end_time": "2025-09-12T17:38:07.791163Z",
     "start_time": "2025-09-12T17:38:07.781842Z"
    }
   },
   "cell_type": "code",
   "source": [
    "final_data = pd.DataFrame(data)\n",
    "final_data.drop(columns=['patient_id', 'cancer_type',], inplace=True)"
   ],
   "id": "a954c118a61c9609",
   "outputs": [],
   "execution_count": 46
  },
  {
   "metadata": {
    "ExecuteTime": {
     "end_time": "2025-09-12T17:38:23.370773Z",
     "start_time": "2025-09-12T17:38:18.387252Z"
    }
   },
   "cell_type": "code",
   "source": "final_data.to_csv(r'../../data/tcga_pathology/processed/tcga_pathology_reports.csv', index=False)",
   "id": "ee8ff14dec80302b",
   "outputs": [],
   "execution_count": 47
  }
 ],
 "metadata": {
  "kernelspec": {
   "display_name": "Python 3",
   "language": "python",
   "name": "python3"
  },
  "language_info": {
   "codemirror_mode": {
    "name": "ipython",
    "version": 2
   },
   "file_extension": ".py",
   "mimetype": "text/x-python",
   "name": "python",
   "nbconvert_exporter": "python",
   "pygments_lexer": "ipython2",
   "version": "2.7.6"
  }
 },
 "nbformat": 4,
 "nbformat_minor": 5
}
