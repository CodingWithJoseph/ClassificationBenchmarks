{
 "cells": [
  {
   "cell_type": "code",
   "id": "initial_id",
   "metadata": {
    "collapsed": true,
    "ExecuteTime": {
     "end_time": "2025-09-12T23:09:25.859821Z",
     "start_time": "2025-09-12T23:09:25.552811Z"
    }
   },
   "source": [
    "import pandas as pd\n",
    "import matplotlib.pyplot as plt\n",
    "from collections import Counter\n",
    "import nltk\n",
    "from nltk.corpus import stopwords\n",
    "nltk.download('stopwords')"
   ],
   "outputs": [
    {
     "name": "stderr",
     "output_type": "stream",
     "text": [
      "[nltk_data] Downloading package stopwords to\n",
      "[nltk_data]     C:\\Users\\josep\\AppData\\Roaming\\nltk_data...\n",
      "[nltk_data]   Package stopwords is already up-to-date!\n"
     ]
    },
    {
     "data": {
      "text/plain": [
       "True"
      ]
     },
     "execution_count": 16,
     "metadata": {},
     "output_type": "execute_result"
    }
   ],
   "execution_count": 16
  },
  {
   "metadata": {
    "ExecuteTime": {
     "end_time": "2025-09-12T23:07:45.791251Z",
     "start_time": "2025-09-12T23:07:45.590247Z"
    }
   },
   "cell_type": "code",
   "source": [
    "reports = pd.read_csv(r'../../data/tcga_pathology/raw/tcga_pathology_reports.csv')\n",
    "cancer_type = pd.read_csv(r'../../data/tcga_pathology/raw/tcga_patient_to_cancer_type.csv')"
   ],
   "id": "68a123b140a304ae",
   "outputs": [],
   "execution_count": 3
  },
  {
   "metadata": {},
   "cell_type": "markdown",
   "source": "## Check First Few Examples",
   "id": "3e04db1d73a4a981"
  },
  {
   "metadata": {
    "ExecuteTime": {
     "end_time": "2025-09-12T23:07:45.811061Z",
     "start_time": "2025-09-12T23:07:45.805055Z"
    }
   },
   "cell_type": "code",
   "source": "reports.head()",
   "id": "3cd6515c2f416b",
   "outputs": [
    {
     "data": {
      "text/plain": [
       "                                    patient_filename  \\\n",
       "0  TCGA-BP-5195.25c0b433-5557-4165-922e-2c1eac9c26f0   \n",
       "1  TCGA-D7-8573.b7306a47-697d-4ed3-bbe1-81d49674a8f8   \n",
       "2  TCGA-EI-7004.13591eed-30e5-47a3-91be-7a370663d2d4   \n",
       "3  TCGA-EB-A82B.23E186C6-739C-4EF1-8788-79AA89C6E87A   \n",
       "4  TCGA-A6-3808.e1505f65-72ef-438d-a5e1-93ed8bf6635d   \n",
       "\n",
       "                                                text  \n",
       "0  Date of Recelpt: Clinical Diagnosis & History:...  \n",
       "1  Material: 1) Material: stomach, Method of coll...  \n",
       "2  page 1 / 1. copy No. 3. Examination: Histopath...  \n",
       "3  Patient ID: Gross Description: A mass is locat...  \n",
       "4  SPECIMEN. Right colon. CLINICAL NOTES. PRE-OP ...  "
      ],
      "text/html": [
       "<div>\n",
       "<style scoped>\n",
       "    .dataframe tbody tr th:only-of-type {\n",
       "        vertical-align: middle;\n",
       "    }\n",
       "\n",
       "    .dataframe tbody tr th {\n",
       "        vertical-align: top;\n",
       "    }\n",
       "\n",
       "    .dataframe thead th {\n",
       "        text-align: right;\n",
       "    }\n",
       "</style>\n",
       "<table border=\"1\" class=\"dataframe\">\n",
       "  <thead>\n",
       "    <tr style=\"text-align: right;\">\n",
       "      <th></th>\n",
       "      <th>patient_filename</th>\n",
       "      <th>text</th>\n",
       "    </tr>\n",
       "  </thead>\n",
       "  <tbody>\n",
       "    <tr>\n",
       "      <th>0</th>\n",
       "      <td>TCGA-BP-5195.25c0b433-5557-4165-922e-2c1eac9c26f0</td>\n",
       "      <td>Date of Recelpt: Clinical Diagnosis &amp; History:...</td>\n",
       "    </tr>\n",
       "    <tr>\n",
       "      <th>1</th>\n",
       "      <td>TCGA-D7-8573.b7306a47-697d-4ed3-bbe1-81d49674a8f8</td>\n",
       "      <td>Material: 1) Material: stomach, Method of coll...</td>\n",
       "    </tr>\n",
       "    <tr>\n",
       "      <th>2</th>\n",
       "      <td>TCGA-EI-7004.13591eed-30e5-47a3-91be-7a370663d2d4</td>\n",
       "      <td>page 1 / 1. copy No. 3. Examination: Histopath...</td>\n",
       "    </tr>\n",
       "    <tr>\n",
       "      <th>3</th>\n",
       "      <td>TCGA-EB-A82B.23E186C6-739C-4EF1-8788-79AA89C6E87A</td>\n",
       "      <td>Patient ID: Gross Description: A mass is locat...</td>\n",
       "    </tr>\n",
       "    <tr>\n",
       "      <th>4</th>\n",
       "      <td>TCGA-A6-3808.e1505f65-72ef-438d-a5e1-93ed8bf6635d</td>\n",
       "      <td>SPECIMEN. Right colon. CLINICAL NOTES. PRE-OP ...</td>\n",
       "    </tr>\n",
       "  </tbody>\n",
       "</table>\n",
       "</div>"
      ]
     },
     "execution_count": 4,
     "metadata": {},
     "output_type": "execute_result"
    }
   ],
   "execution_count": 4
  },
  {
   "metadata": {
    "ExecuteTime": {
     "end_time": "2025-09-12T23:07:45.933200Z",
     "start_time": "2025-09-12T23:07:45.929234Z"
    }
   },
   "cell_type": "code",
   "source": "cancer_type.head()",
   "id": "65cb1904368216b7",
   "outputs": [
    {
     "data": {
      "text/plain": [
       "     patient_id cancer_type\n",
       "0  TCGA-OR-A5J1         ACC\n",
       "1  TCGA-OR-A5J2         ACC\n",
       "2  TCGA-OR-A5J3         ACC\n",
       "3  TCGA-OR-A5J4         ACC\n",
       "4  TCGA-OR-A5J5         ACC"
      ],
      "text/html": [
       "<div>\n",
       "<style scoped>\n",
       "    .dataframe tbody tr th:only-of-type {\n",
       "        vertical-align: middle;\n",
       "    }\n",
       "\n",
       "    .dataframe tbody tr th {\n",
       "        vertical-align: top;\n",
       "    }\n",
       "\n",
       "    .dataframe thead th {\n",
       "        text-align: right;\n",
       "    }\n",
       "</style>\n",
       "<table border=\"1\" class=\"dataframe\">\n",
       "  <thead>\n",
       "    <tr style=\"text-align: right;\">\n",
       "      <th></th>\n",
       "      <th>patient_id</th>\n",
       "      <th>cancer_type</th>\n",
       "    </tr>\n",
       "  </thead>\n",
       "  <tbody>\n",
       "    <tr>\n",
       "      <th>0</th>\n",
       "      <td>TCGA-OR-A5J1</td>\n",
       "      <td>ACC</td>\n",
       "    </tr>\n",
       "    <tr>\n",
       "      <th>1</th>\n",
       "      <td>TCGA-OR-A5J2</td>\n",
       "      <td>ACC</td>\n",
       "    </tr>\n",
       "    <tr>\n",
       "      <th>2</th>\n",
       "      <td>TCGA-OR-A5J3</td>\n",
       "      <td>ACC</td>\n",
       "    </tr>\n",
       "    <tr>\n",
       "      <th>3</th>\n",
       "      <td>TCGA-OR-A5J4</td>\n",
       "      <td>ACC</td>\n",
       "    </tr>\n",
       "    <tr>\n",
       "      <th>4</th>\n",
       "      <td>TCGA-OR-A5J5</td>\n",
       "      <td>ACC</td>\n",
       "    </tr>\n",
       "  </tbody>\n",
       "</table>\n",
       "</div>"
      ]
     },
     "execution_count": 5,
     "metadata": {},
     "output_type": "execute_result"
    }
   ],
   "execution_count": 5
  },
  {
   "metadata": {},
   "cell_type": "markdown",
   "source": "## High Level Statistics",
   "id": "18ee40397c3a3257"
  },
  {
   "metadata": {
    "ExecuteTime": {
     "end_time": "2025-09-12T23:07:46.122626Z",
     "start_time": "2025-09-12T23:07:46.105461Z"
    }
   },
   "cell_type": "code",
   "source": "reports.describe()",
   "id": "24dea30e18d544ce",
   "outputs": [
    {
     "data": {
      "text/plain": [
       "                                         patient_filename  \\\n",
       "count                                                9523   \n",
       "unique                                               9523   \n",
       "top     TCGA-AA-3538.32912174-66b8-4144-9ef0-26b04c05e568   \n",
       "freq                                                    1   \n",
       "\n",
       "                                                     text  \n",
       "count                                                9523  \n",
       "unique                                               9505  \n",
       "top     Neuropathology. Commentary: Histology and morp...  \n",
       "freq                                                    3  "
      ],
      "text/html": [
       "<div>\n",
       "<style scoped>\n",
       "    .dataframe tbody tr th:only-of-type {\n",
       "        vertical-align: middle;\n",
       "    }\n",
       "\n",
       "    .dataframe tbody tr th {\n",
       "        vertical-align: top;\n",
       "    }\n",
       "\n",
       "    .dataframe thead th {\n",
       "        text-align: right;\n",
       "    }\n",
       "</style>\n",
       "<table border=\"1\" class=\"dataframe\">\n",
       "  <thead>\n",
       "    <tr style=\"text-align: right;\">\n",
       "      <th></th>\n",
       "      <th>patient_filename</th>\n",
       "      <th>text</th>\n",
       "    </tr>\n",
       "  </thead>\n",
       "  <tbody>\n",
       "    <tr>\n",
       "      <th>count</th>\n",
       "      <td>9523</td>\n",
       "      <td>9523</td>\n",
       "    </tr>\n",
       "    <tr>\n",
       "      <th>unique</th>\n",
       "      <td>9523</td>\n",
       "      <td>9505</td>\n",
       "    </tr>\n",
       "    <tr>\n",
       "      <th>top</th>\n",
       "      <td>TCGA-AA-3538.32912174-66b8-4144-9ef0-26b04c05e568</td>\n",
       "      <td>Neuropathology. Commentary: Histology and morp...</td>\n",
       "    </tr>\n",
       "    <tr>\n",
       "      <th>freq</th>\n",
       "      <td>1</td>\n",
       "      <td>3</td>\n",
       "    </tr>\n",
       "  </tbody>\n",
       "</table>\n",
       "</div>"
      ]
     },
     "execution_count": 6,
     "metadata": {},
     "output_type": "execute_result"
    }
   ],
   "execution_count": 6
  },
  {
   "metadata": {
    "ExecuteTime": {
     "end_time": "2025-09-12T23:07:46.189564Z",
     "start_time": "2025-09-12T23:07:46.184653Z"
    }
   },
   "cell_type": "code",
   "source": "cancer_type.cancer_type.describe()",
   "id": "73d2437cc00cad9d",
   "outputs": [
    {
     "data": {
      "text/plain": [
       "count     11160\n",
       "unique       33\n",
       "top        BRCA\n",
       "freq       1097\n",
       "Name: cancer_type, dtype: object"
      ]
     },
     "execution_count": 7,
     "metadata": {},
     "output_type": "execute_result"
    }
   ],
   "execution_count": 7
  },
  {
   "metadata": {
    "ExecuteTime": {
     "end_time": "2025-09-12T23:07:46.296631Z",
     "start_time": "2025-09-12T23:07:46.293482Z"
    }
   },
   "cell_type": "code",
   "source": "print(set(cancer_type.cancer_type))",
   "id": "32c7aa30f7477696",
   "outputs": [
    {
     "name": "stdout",
     "output_type": "stream",
     "text": [
      "{'UVM', 'MESO', 'OV', 'LIHC', 'SKCM', 'KIRC', 'READ', 'PCPG', 'THCA', 'BLCA', 'PRAD', 'UCEC', 'ACC', 'ESCA', 'GBM', 'COAD', 'KICH', 'LGG', 'LUAD', 'PAAD', 'BRCA', 'CHOL', 'SARC', 'KIRP', 'LAML', 'STAD', 'DLBC', 'THYM', 'CESC', 'HNSC', 'LUSC', 'TGCT', 'UCS'}\n"
     ]
    }
   ],
   "execution_count": 8
  },
  {
   "metadata": {},
   "cell_type": "markdown",
   "source": "## Check Missing Data",
   "id": "35f6056057cb36ec"
  },
  {
   "metadata": {
    "ExecuteTime": {
     "end_time": "2025-09-12T23:07:46.407066Z",
     "start_time": "2025-09-12T23:07:46.401067Z"
    }
   },
   "cell_type": "code",
   "source": "reports.isna().sum()",
   "id": "fd780ef8e07ddc23",
   "outputs": [
    {
     "data": {
      "text/plain": [
       "patient_filename    0\n",
       "text                0\n",
       "dtype: int64"
      ]
     },
     "execution_count": 9,
     "metadata": {},
     "output_type": "execute_result"
    }
   ],
   "execution_count": 9
  },
  {
   "metadata": {
    "ExecuteTime": {
     "end_time": "2025-09-12T23:07:46.493155Z",
     "start_time": "2025-09-12T23:07:46.488150Z"
    }
   },
   "cell_type": "code",
   "source": "cancer_type.isna().sum()",
   "id": "4f8a239b0e98fd83",
   "outputs": [
    {
     "data": {
      "text/plain": [
       "patient_id     0\n",
       "cancer_type    0\n",
       "dtype: int64"
      ]
     },
     "execution_count": 10,
     "metadata": {},
     "output_type": "execute_result"
    }
   ],
   "execution_count": 10
  },
  {
   "metadata": {},
   "cell_type": "markdown",
   "source": "## Visualize Common Words Per Cancer Type",
   "id": "94279c37a423431c"
  },
  {
   "metadata": {
    "ExecuteTime": {
     "end_time": "2025-09-12T23:07:46.613307Z",
     "start_time": "2025-09-12T23:07:46.601018Z"
    }
   },
   "cell_type": "code",
   "source": [
    "## combine datasets\n",
    "reports['patient_id'] = reports['patient_filename'].str.split('.').str[0]\n",
    "data = reports.merge(cancer_type, on='patient_id')"
   ],
   "id": "ffae17809cfaa688",
   "outputs": [],
   "execution_count": 11
  },
  {
   "metadata": {
    "ExecuteTime": {
     "end_time": "2025-09-12T23:07:47.738260Z",
     "start_time": "2025-09-12T23:07:46.662761Z"
    }
   },
   "cell_type": "code",
   "source": [
    "# Download stopwords if not already\n",
    "\n",
    "stop_words = set(stopwords.words('english'))\n",
    "\n",
    "def top_words_per_cancer(data, cancer_types, text_col='text', label_col='cancer_type', top_n=20):\n",
    "    \"\"\"\n",
    "    Returns a DataFrame with top N words and counts for each cancer type.\n",
    "    \"\"\"\n",
    "    rows = []\n",
    "\n",
    "    for ct in cancer_types:\n",
    "        subset = data[data[label_col] == ct]\n",
    "        text = \" \".join(subset[text_col].tolist()).lower()\n",
    "        words = [word for word in text.split() if word not in stop_words]\n",
    "\n",
    "        counter = Counter(words)\n",
    "        most_common = counter.most_common(top_n)\n",
    "\n",
    "        # Flatten top words and counts into a single row\n",
    "        row = {'cancer_type': ct}\n",
    "        for i, (word, count) in enumerate(most_common, start=1):\n",
    "            row[f'word_{i}'] = word\n",
    "\n",
    "        rows.append(row)\n",
    "\n",
    "    df_top_words = pd.DataFrame(rows)\n",
    "    return df_top_words\n",
    "\n",
    "# Usage\n",
    "cancer_types = {'READ', 'KIRC', 'PCPG', 'BRCA', 'LUAD', 'LUSC', 'UCS', 'COAD',\n",
    "                'KIRP', 'LAML', 'BLCA', 'UCEC', 'TGCT', 'UVM', 'SARC', 'THYM',\n",
    "                'PRAD', 'MESO', 'HNSC', 'OV', 'ACC', 'GBM', 'STAD', 'PAAD', 'CESC',\n",
    "                'KICH', 'THCA', 'DLBC', 'ESCA', 'SKCM', 'CHOL', 'LGG', 'LIHC'}\n",
    "\n",
    "df_top_words = top_words_per_cancer(data, cancer_types)\n",
    "df_top_words.head()"
   ],
   "id": "f85067e88c51b60b",
   "outputs": [
    {
     "data": {
      "text/plain": [
       "  cancer_type  word_1 word_2      word_3  word_4 word_5     word_6  word_7  \\\n",
       "0         UVM  tumour  optic       tumor      mm   the.      nerve     no.   \n",
       "1        MESO       x  lymph    specimen  tissue     cm  submitted   tumor   \n",
       "2          OV       x     cm           -   tumor  lymph  fallopian  serous   \n",
       "3        LIHC       x  tumor       liver      cm      -   specimen     no.   \n",
       "4        SKCM   tumor  lymph  specified.       x   skin  melanoma.       -   \n",
       "\n",
       "           word_8     word_9  ...    word_11    word_12    word_13  word_14  \\\n",
       "0        melanoma   clinical  ...  choroidal   anterior          x  report.   \n",
       "1        consists  malignant  ...   received          -    labeled    level   \n",
       "2         labeled        cm.  ...     tissue       left       tube    ovary   \n",
       "3  hepatocellular        cm.  ...          :  resection  invasion:    lymph   \n",
       "4        specimen       node  ...     tissue  invasion:   melanoma      cm.   \n",
       "\n",
       "     word_15   word_16    word_17    word_18     word_19       word_20  \n",
       "0  melanoma.     right    ciliary      cells        cell        tumor.  \n",
       "1       part       cm.  measuring   sections         one          node  \n",
       "2  measuring  specimen    surface  papillary    sections    metastatic  \n",
       "3       mass   segment     liver,      gross          a.          the.  \n",
       "4      type:  sentinel       left       n/a.  histologic  description:  \n",
       "\n",
       "[5 rows x 21 columns]"
      ],
      "text/html": [
       "<div>\n",
       "<style scoped>\n",
       "    .dataframe tbody tr th:only-of-type {\n",
       "        vertical-align: middle;\n",
       "    }\n",
       "\n",
       "    .dataframe tbody tr th {\n",
       "        vertical-align: top;\n",
       "    }\n",
       "\n",
       "    .dataframe thead th {\n",
       "        text-align: right;\n",
       "    }\n",
       "</style>\n",
       "<table border=\"1\" class=\"dataframe\">\n",
       "  <thead>\n",
       "    <tr style=\"text-align: right;\">\n",
       "      <th></th>\n",
       "      <th>cancer_type</th>\n",
       "      <th>word_1</th>\n",
       "      <th>word_2</th>\n",
       "      <th>word_3</th>\n",
       "      <th>word_4</th>\n",
       "      <th>word_5</th>\n",
       "      <th>word_6</th>\n",
       "      <th>word_7</th>\n",
       "      <th>word_8</th>\n",
       "      <th>word_9</th>\n",
       "      <th>...</th>\n",
       "      <th>word_11</th>\n",
       "      <th>word_12</th>\n",
       "      <th>word_13</th>\n",
       "      <th>word_14</th>\n",
       "      <th>word_15</th>\n",
       "      <th>word_16</th>\n",
       "      <th>word_17</th>\n",
       "      <th>word_18</th>\n",
       "      <th>word_19</th>\n",
       "      <th>word_20</th>\n",
       "    </tr>\n",
       "  </thead>\n",
       "  <tbody>\n",
       "    <tr>\n",
       "      <th>0</th>\n",
       "      <td>UVM</td>\n",
       "      <td>tumour</td>\n",
       "      <td>optic</td>\n",
       "      <td>tumor</td>\n",
       "      <td>mm</td>\n",
       "      <td>the.</td>\n",
       "      <td>nerve</td>\n",
       "      <td>no.</td>\n",
       "      <td>melanoma</td>\n",
       "      <td>clinical</td>\n",
       "      <td>...</td>\n",
       "      <td>choroidal</td>\n",
       "      <td>anterior</td>\n",
       "      <td>x</td>\n",
       "      <td>report.</td>\n",
       "      <td>melanoma.</td>\n",
       "      <td>right</td>\n",
       "      <td>ciliary</td>\n",
       "      <td>cells</td>\n",
       "      <td>cell</td>\n",
       "      <td>tumor.</td>\n",
       "    </tr>\n",
       "    <tr>\n",
       "      <th>1</th>\n",
       "      <td>MESO</td>\n",
       "      <td>x</td>\n",
       "      <td>lymph</td>\n",
       "      <td>specimen</td>\n",
       "      <td>tissue</td>\n",
       "      <td>cm</td>\n",
       "      <td>submitted</td>\n",
       "      <td>tumor</td>\n",
       "      <td>consists</td>\n",
       "      <td>malignant</td>\n",
       "      <td>...</td>\n",
       "      <td>received</td>\n",
       "      <td>-</td>\n",
       "      <td>labeled</td>\n",
       "      <td>level</td>\n",
       "      <td>part</td>\n",
       "      <td>cm.</td>\n",
       "      <td>measuring</td>\n",
       "      <td>sections</td>\n",
       "      <td>one</td>\n",
       "      <td>node</td>\n",
       "    </tr>\n",
       "    <tr>\n",
       "      <th>2</th>\n",
       "      <td>OV</td>\n",
       "      <td>x</td>\n",
       "      <td>cm</td>\n",
       "      <td>-</td>\n",
       "      <td>tumor</td>\n",
       "      <td>lymph</td>\n",
       "      <td>fallopian</td>\n",
       "      <td>serous</td>\n",
       "      <td>labeled</td>\n",
       "      <td>cm.</td>\n",
       "      <td>...</td>\n",
       "      <td>tissue</td>\n",
       "      <td>left</td>\n",
       "      <td>tube</td>\n",
       "      <td>ovary</td>\n",
       "      <td>measuring</td>\n",
       "      <td>specimen</td>\n",
       "      <td>surface</td>\n",
       "      <td>papillary</td>\n",
       "      <td>sections</td>\n",
       "      <td>metastatic</td>\n",
       "    </tr>\n",
       "    <tr>\n",
       "      <th>3</th>\n",
       "      <td>LIHC</td>\n",
       "      <td>x</td>\n",
       "      <td>tumor</td>\n",
       "      <td>liver</td>\n",
       "      <td>cm</td>\n",
       "      <td>-</td>\n",
       "      <td>specimen</td>\n",
       "      <td>no.</td>\n",
       "      <td>hepatocellular</td>\n",
       "      <td>cm.</td>\n",
       "      <td>...</td>\n",
       "      <td>:</td>\n",
       "      <td>resection</td>\n",
       "      <td>invasion:</td>\n",
       "      <td>lymph</td>\n",
       "      <td>mass</td>\n",
       "      <td>segment</td>\n",
       "      <td>liver,</td>\n",
       "      <td>gross</td>\n",
       "      <td>a.</td>\n",
       "      <td>the.</td>\n",
       "    </tr>\n",
       "    <tr>\n",
       "      <th>4</th>\n",
       "      <td>SKCM</td>\n",
       "      <td>tumor</td>\n",
       "      <td>lymph</td>\n",
       "      <td>specified.</td>\n",
       "      <td>x</td>\n",
       "      <td>skin</td>\n",
       "      <td>melanoma.</td>\n",
       "      <td>-</td>\n",
       "      <td>specimen</td>\n",
       "      <td>node</td>\n",
       "      <td>...</td>\n",
       "      <td>tissue</td>\n",
       "      <td>invasion:</td>\n",
       "      <td>melanoma</td>\n",
       "      <td>cm.</td>\n",
       "      <td>type:</td>\n",
       "      <td>sentinel</td>\n",
       "      <td>left</td>\n",
       "      <td>n/a.</td>\n",
       "      <td>histologic</td>\n",
       "      <td>description:</td>\n",
       "    </tr>\n",
       "  </tbody>\n",
       "</table>\n",
       "<p>5 rows × 21 columns</p>\n",
       "</div>"
      ]
     },
     "execution_count": 12,
     "metadata": {},
     "output_type": "execute_result"
    }
   ],
   "execution_count": 12
  },
  {
   "metadata": {},
   "cell_type": "markdown",
   "source": "",
   "id": "d10e18551f8b3130"
  },
  {
   "metadata": {
    "ExecuteTime": {
     "end_time": "2025-09-12T23:09:40.903902Z",
     "start_time": "2025-09-12T23:09:40.782902Z"
    }
   },
   "cell_type": "code",
   "source": [
    "cancer_type.cancer_type.value_counts().sort_index().plot(kind='bar')\n",
    "plt.title(\"Target distribution\")\n",
    "plt.xlabel(\"Class\")\n",
    "plt.ylabel(\"Count\")\n",
    "plt.show()"
   ],
   "id": "e815a03e603d854e",
   "outputs": [
    {
     "data": {
      "text/plain": [
       "<Figure size 640x480 with 1 Axes>"
      ],
      "image/png": "[encoded data removed]"
     },
     "metadata": {},
     "output_type": "display_data"
    }
   ],
   "execution_count": 18
  },
  {
   "metadata": {},
   "cell_type": "code",
   "outputs": [],
   "execution_count": null,
   "source": "",
   "id": "c037651ae88a7586"
  }
 ],
 "metadata": {
  "kernelspec": {
   "display_name": "Python 3",
   "language": "python",
   "name": "python3"
  },
  "language_info": {
   "codemirror_mode": {
    "name": "ipython",
    "version": 2
   },
   "file_extension": ".py",
   "mimetype": "text/x-python",
   "name": "python",
   "nbconvert_exporter": "python",
   "pygments_lexer": "ipython2",
   "version": "2.7.6"
  }
 },
 "nbformat": 4,
 "nbformat_minor": 5
}
